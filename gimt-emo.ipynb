{
 "cells": [
  {
   "cell_type": "markdown",
   "id": "d0d08e68",
   "metadata": {
    "papermill": {
     "duration": 0.032889,
     "end_time": "2021-12-05T13:18:41.426574",
     "exception": false,
     "start_time": "2021-12-05T13:18:41.393685",
     "status": "completed"
    },
    "tags": []
   },
   "source": [
    "### Import"
   ]
  },
  {
   "cell_type": "code",
   "execution_count": 1,
   "id": "bc880c68",
   "metadata": {
    "execution": {
     "iopub.execute_input": "2021-12-05T13:18:41.499690Z",
     "iopub.status.busy": "2021-12-05T13:18:41.498920Z",
     "iopub.status.idle": "2021-12-05T13:18:45.424247Z",
     "shell.execute_reply": "2021-12-05T13:18:45.423154Z",
     "shell.execute_reply.started": "2021-12-05T08:44:40.246997Z"
    },
    "papermill": {
     "duration": 3.965153,
     "end_time": "2021-12-05T13:18:45.424451",
     "exception": false,
     "start_time": "2021-12-05T13:18:41.459298",
     "status": "completed"
    },
    "tags": []
   },
   "outputs": [],
   "source": [
    "# import all library required\n",
    "import numpy as np\n",
    "import pandas as pd\n",
    "import tensorflow as tf\n",
    "import os\n",
    "import cv2\n",
    "import matplotlib.pyplot as plt\n",
    "import matplotlib as mpl\n",
    "\n",
    "# style  matplotlib\n",
    "mpl.style.use(\"seaborn-darkgrid\")\n",
    "# run this block"
   ]
  },
  {
   "cell_type": "code",
   "execution_count": 2,
   "id": "b087883a",
   "metadata": {
    "execution": {
     "iopub.execute_input": "2021-12-05T13:18:45.492456Z",
     "iopub.status.busy": "2021-12-05T13:18:45.490882Z",
     "iopub.status.idle": "2021-12-05T13:18:45.493062Z",
     "shell.execute_reply": "2021-12-05T13:18:45.493501Z",
     "shell.execute_reply.started": "2021-12-05T08:44:44.433939Z"
    },
    "papermill": {
     "duration": 0.037511,
     "end_time": "2021-12-05T13:18:45.493633",
     "exception": false,
     "start_time": "2021-12-05T13:18:45.456122",
     "status": "completed"
    },
    "tags": []
   },
   "outputs": [],
   "source": [
    "from tqdm import tqdm # show progress bar of for loop\n"
   ]
  },
  {
   "cell_type": "markdown",
   "id": "921d7788",
   "metadata": {
    "papermill": {
     "duration": 0.030901,
     "end_time": "2021-12-05T13:18:45.555316",
     "exception": false,
     "start_time": "2021-12-05T13:18:45.524415",
     "status": "completed"
    },
    "tags": []
   },
   "source": [
    "### Analysing Files"
   ]
  },
  {
   "cell_type": "code",
   "execution_count": 3,
   "id": "4e3d831f",
   "metadata": {
    "execution": {
     "iopub.execute_input": "2021-12-05T13:18:45.619521Z",
     "iopub.status.busy": "2021-12-05T13:18:45.619002Z",
     "iopub.status.idle": "2021-12-05T13:18:45.645030Z",
     "shell.execute_reply": "2021-12-05T13:18:45.645459Z",
     "shell.execute_reply.started": "2021-12-05T08:44:44.441299Z"
    },
    "papermill": {
     "duration": 0.059636,
     "end_time": "2021-12-05T13:18:45.645580",
     "exception": false,
     "start_time": "2021-12-05T13:18:45.585944",
     "status": "completed"
    },
    "tags": []
   },
   "outputs": [
    {
     "data": {
      "text/plain": [
       "['surprise', 'fear', 'angry', 'neutral', 'sad', 'disgust', 'happy']"
      ]
     },
     "execution_count": 3,
     "metadata": {},
     "output_type": "execute_result"
    }
   ],
   "source": [
    "# list of files in train folder\n",
    "files=os.listdir(\"../input/mma-facial-expression/MMAFEDB/train/\")\n",
    "files\n"
   ]
  },
  {
   "cell_type": "code",
   "execution_count": 4,
   "id": "d22bc094",
   "metadata": {
    "execution": {
     "iopub.execute_input": "2021-12-05T13:18:45.711231Z",
     "iopub.status.busy": "2021-12-05T13:18:45.710583Z",
     "iopub.status.idle": "2021-12-05T13:18:45.713096Z",
     "shell.execute_reply": "2021-12-05T13:18:45.712697Z",
     "shell.execute_reply.started": "2021-12-05T08:44:44.469862Z"
    },
    "papermill": {
     "duration": 0.036323,
     "end_time": "2021-12-05T13:18:45.713223",
     "exception": false,
     "start_time": "2021-12-05T13:18:45.676900",
     "status": "completed"
    },
    "tags": []
   },
   "outputs": [],
   "source": [
    "# restart our notebook and run from top to bottom"
   ]
  },
  {
   "cell_type": "code",
   "execution_count": 5,
   "id": "43a8007d",
   "metadata": {
    "execution": {
     "iopub.execute_input": "2021-12-05T13:18:45.783626Z",
     "iopub.status.busy": "2021-12-05T13:18:45.782913Z",
     "iopub.status.idle": "2021-12-05T13:25:34.448259Z",
     "shell.execute_reply": "2021-12-05T13:25:34.448680Z",
     "shell.execute_reply.started": "2021-12-05T08:44:44.475225Z"
    },
    "papermill": {
     "duration": 408.705107,
     "end_time": "2021-12-05T13:25:34.448854",
     "exception": false,
     "start_time": "2021-12-05T13:18:45.743747",
     "status": "completed"
    },
    "tags": []
   },
   "outputs": [
    {
     "name": "stderr",
     "output_type": "stream",
     "text": [
      "100%|██████████| 8113/8113 [00:47<00:00, 171.56it/s]\n",
      "100%|██████████| 4859/4859 [00:27<00:00, 177.81it/s]\n",
      "100%|██████████| 6566/6566 [00:37<00:00, 175.23it/s]\n",
      "100%|██████████| 18000/18000 [01:43<00:00, 174.31it/s]\n",
      "100%|██████████| 12223/12223 [01:08<00:00, 178.70it/s]\n",
      "100%|██████████| 3231/3231 [00:17<00:00, 186.90it/s]\n",
      "100%|██████████| 18000/18000 [01:41<00:00, 177.17it/s]\n"
     ]
    }
   ],
   "source": [
    "# now create image and label array\n",
    "image_array=[]  # it's a list later i will convert it to array\n",
    "label_array=[]\n",
    "path=\"../input/mma-facial-expression/MMAFEDB/train/\"\n",
    "# loop through each sub-folder in train\n",
    "for i in range(len(files)):\n",
    "    # files in sub-folder\n",
    "    file_sub=os.listdir(path+files[i])\n",
    "\n",
    "   # print(len(file_sub))\n",
    "    # loop through each files\n",
    "    \n",
    "    # for neutral and happy dataset we will use only 18000 image\n",
    "    if(files[i]==\"neutral\" or files[i]==\"happy\"):\n",
    "        for k in tqdm(range(18000)):\n",
    "            # read image\n",
    "            img=cv2.imread(path+files[i]+\"/\"+file_sub[k])\n",
    "            # convert image from BGR to RGB\n",
    "            img=cv2.cvtColor(img,cv2.COLOR_BGR2RGB)\n",
    "            # append image_array with img\n",
    "            image_array.append(img)\n",
    "            label_array.append(i)\n",
    "            # i is interger from 0-6\n",
    "            # run this block\n",
    "    else:\n",
    "        # for other all \n",
    "        for k in tqdm(range(len(file_sub))):\n",
    "            # read image\n",
    "            img=cv2.imread(path+files[i]+\"/\"+file_sub[k])\n",
    "            # convert image from BGR to RGB\n",
    "            img=cv2.cvtColor(img,cv2.COLOR_BGR2RGB)\n",
    "            # append image_array with img\n",
    "            image_array.append(img)\n",
    "            label_array.append(i)\n",
    "            # i is interger from 0-6\n",
    "            # run this block"
   ]
  },
  {
   "cell_type": "code",
   "execution_count": 6,
   "id": "9cead2bf",
   "metadata": {
    "execution": {
     "iopub.execute_input": "2021-12-05T13:25:36.532753Z",
     "iopub.status.busy": "2021-12-05T13:25:36.532104Z",
     "iopub.status.idle": "2021-12-05T13:25:36.538413Z",
     "shell.execute_reply": "2021-12-05T13:25:36.538836Z",
     "shell.execute_reply.started": "2021-12-05T08:54:22.389688Z"
    },
    "papermill": {
     "duration": 1.050146,
     "end_time": "2021-12-05T13:25:36.538971",
     "exception": false,
     "start_time": "2021-12-05T13:25:35.488825",
     "status": "completed"
    },
    "tags": []
   },
   "outputs": [
    {
     "name": "stdout",
     "output_type": "stream",
     "text": [
      "[0 1 2 3 4 5 6]\n",
      "[ 8113  4859  6566 18000 12223  3231 18000]\n"
     ]
    }
   ],
   "source": [
    "a,b=np.unique(label_array,return_counts=\"True\")\n",
    "print(a)\n",
    "print(b)"
   ]
  },
  {
   "cell_type": "code",
   "execution_count": 7,
   "id": "858728ad",
   "metadata": {
    "execution": {
     "iopub.execute_input": "2021-12-05T13:25:38.591149Z",
     "iopub.status.busy": "2021-12-05T13:25:38.590138Z",
     "iopub.status.idle": "2021-12-05T13:25:38.591859Z",
     "shell.execute_reply": "2021-12-05T13:25:38.592293Z",
     "shell.execute_reply.started": "2021-12-05T08:54:22.412837Z"
    },
    "papermill": {
     "duration": 1.040282,
     "end_time": "2021-12-05T13:25:38.592442",
     "exception": false,
     "start_time": "2021-12-05T13:25:37.552160",
     "status": "completed"
    },
    "tags": []
   },
   "outputs": [],
   "source": [
    "# due to low ram memory we have to reduce our training dataset\n",
    "# we will reduce 29384,28592 to 18000\n",
    "# this will solve low memory issue"
   ]
  },
  {
   "cell_type": "code",
   "execution_count": 8,
   "id": "c295a026",
   "metadata": {
    "execution": {
     "iopub.execute_input": "2021-12-05T13:25:40.772545Z",
     "iopub.status.busy": "2021-12-05T13:25:40.771757Z",
     "iopub.status.idle": "2021-12-05T13:25:40.774551Z",
     "shell.execute_reply": "2021-12-05T13:25:40.774954Z",
     "shell.execute_reply.started": "2021-12-05T08:54:22.418445Z"
    },
    "papermill": {
     "duration": 1.166016,
     "end_time": "2021-12-05T13:25:40.775096",
     "exception": false,
     "start_time": "2021-12-05T13:25:39.609080",
     "status": "completed"
    },
    "tags": []
   },
   "outputs": [
    {
     "data": {
      "text/plain": [
       "85"
      ]
     },
     "execution_count": 8,
     "metadata": {},
     "output_type": "execute_result"
    }
   ],
   "source": [
    "# now use this to free some ram memory\n",
    "import gc\n",
    "gc.collect()"
   ]
  },
  {
   "cell_type": "code",
   "execution_count": 9,
   "id": "3b8bc6c0",
   "metadata": {
    "execution": {
     "iopub.execute_input": "2021-12-05T13:25:43.132277Z",
     "iopub.status.busy": "2021-12-05T13:25:43.131084Z",
     "iopub.status.idle": "2021-12-05T13:25:44.545299Z",
     "shell.execute_reply": "2021-12-05T13:25:44.544599Z",
     "shell.execute_reply.started": "2021-12-05T08:54:22.555751Z"
    },
    "papermill": {
     "duration": 2.751477,
     "end_time": "2021-12-05T13:25:44.545455",
     "exception": false,
     "start_time": "2021-12-05T13:25:41.793978",
     "status": "completed"
    },
    "tags": []
   },
   "outputs": [],
   "source": [
    "# now divide image_array by 255.0\n",
    "# this wil scale image pixel from 0-255 to 0-1\n",
    "image_array=np.array(image_array)/255.0\n",
    "# convert label list to array\n",
    "label_array=np.array(label_array)\n",
    "# run this block"
   ]
  },
  {
   "cell_type": "code",
   "execution_count": 10,
   "id": "093babdd",
   "metadata": {
    "execution": {
     "iopub.execute_input": "2021-12-05T13:25:46.582788Z",
     "iopub.status.busy": "2021-12-05T13:25:46.581795Z",
     "iopub.status.idle": "2021-12-05T13:25:46.583976Z",
     "shell.execute_reply": "2021-12-05T13:25:46.584392Z",
     "shell.execute_reply.started": "2021-12-05T08:54:23.992078Z"
    },
    "papermill": {
     "duration": 1.030884,
     "end_time": "2021-12-05T13:25:46.584538",
     "exception": false,
     "start_time": "2021-12-05T13:25:45.553654",
     "status": "completed"
    },
    "tags": []
   },
   "outputs": [],
   "source": [
    "#image_array[0]\n",
    "#label_array\n"
   ]
  },
  {
   "cell_type": "code",
   "execution_count": 11,
   "id": "0bef6382",
   "metadata": {
    "execution": {
     "iopub.execute_input": "2021-12-05T13:25:48.619842Z",
     "iopub.status.busy": "2021-12-05T13:25:48.618957Z",
     "iopub.status.idle": "2021-12-05T13:25:48.621112Z",
     "shell.execute_reply": "2021-12-05T13:25:48.621548Z",
     "shell.execute_reply.started": "2021-12-05T08:54:23.997606Z"
    },
    "papermill": {
     "duration": 1.0121,
     "end_time": "2021-12-05T13:25:48.621794",
     "exception": false,
     "start_time": "2021-12-05T13:25:47.609694",
     "status": "completed"
    },
    "tags": []
   },
   "outputs": [],
   "source": [
    "# now define label_to_text \n",
    "#['surprise', 'fear', 'angry', 'neutral', 'sad', 'disgust', 'happy']\n",
    "label_to_text={0:\"surprise\",1:\"fear\",2:\"angry\",3:\"neutral\",4:\"sad\",5:\"disgust\",6:\"happy\"}"
   ]
  },
  {
   "cell_type": "code",
   "execution_count": 12,
   "id": "9ae3cb17",
   "metadata": {
    "execution": {
     "iopub.execute_input": "2021-12-05T13:25:50.637574Z",
     "iopub.status.busy": "2021-12-05T13:25:50.636656Z",
     "iopub.status.idle": "2021-12-05T13:25:50.639052Z",
     "shell.execute_reply": "2021-12-05T13:25:50.638536Z",
     "shell.execute_reply.started": "2021-12-05T08:54:24.006114Z"
    },
    "papermill": {
     "duration": 1.012749,
     "end_time": "2021-12-05T13:25:50.639160",
     "exception": false,
     "start_time": "2021-12-05T13:25:49.626411",
     "status": "completed"
    },
    "tags": []
   },
   "outputs": [],
   "source": [
    "# this dic can convert label to text_label\n",
    "# example\n",
    "#label_to_text[1]"
   ]
  },
  {
   "cell_type": "code",
   "execution_count": 13,
   "id": "0679279e",
   "metadata": {
    "execution": {
     "iopub.execute_input": "2021-12-05T13:25:52.723083Z",
     "iopub.status.busy": "2021-12-05T13:25:52.722145Z",
     "iopub.status.idle": "2021-12-05T13:25:52.724240Z",
     "shell.execute_reply": "2021-12-05T13:25:52.724636Z",
     "shell.execute_reply.started": "2021-12-05T08:54:24.014960Z"
    },
    "papermill": {
     "duration": 1.035637,
     "end_time": "2021-12-05T13:25:52.724795",
     "exception": false,
     "start_time": "2021-12-05T13:25:51.689158",
     "status": "completed"
    },
    "tags": []
   },
   "outputs": [],
   "source": [
    "# now shuffle and split image and labels into train and test"
   ]
  },
  {
   "cell_type": "code",
   "execution_count": 14,
   "id": "4b2d32bf",
   "metadata": {
    "execution": {
     "iopub.execute_input": "2021-12-05T13:25:55.492434Z",
     "iopub.status.busy": "2021-12-05T13:25:55.491677Z",
     "iopub.status.idle": "2021-12-05T13:25:57.271371Z",
     "shell.execute_reply": "2021-12-05T13:25:57.271917Z",
     "shell.execute_reply.started": "2021-12-05T08:54:24.022758Z"
    },
    "papermill": {
     "duration": 2.782926,
     "end_time": "2021-12-05T13:25:57.272081",
     "exception": false,
     "start_time": "2021-12-05T13:25:54.489155",
     "status": "completed"
    },
    "tags": []
   },
   "outputs": [
    {
     "data": {
      "text/plain": [
       "0"
      ]
     },
     "execution_count": 14,
     "metadata": {},
     "output_type": "execute_result"
    }
   ],
   "source": [
    "from sklearn.model_selection import train_test_split\n",
    "image_array,X_test,Y_train,Y_test=train_test_split(image_array,label_array,test_size=0.1)\n",
    "# you can change test size \n",
    "# we are using 10% for validation\n",
    "\n",
    "#now before running this block change X_train to image_array to save ram memory\n",
    "gc.collect()"
   ]
  },
  {
   "cell_type": "code",
   "execution_count": 15,
   "id": "db82bd61",
   "metadata": {
    "execution": {
     "iopub.execute_input": "2021-12-05T13:25:59.282437Z",
     "iopub.status.busy": "2021-12-05T13:25:59.281557Z",
     "iopub.status.idle": "2021-12-05T13:25:59.283316Z",
     "shell.execute_reply": "2021-12-05T13:25:59.283806Z",
     "shell.execute_reply.started": "2021-12-05T08:54:25.806064Z"
    },
    "papermill": {
     "duration": 1.006387,
     "end_time": "2021-12-05T13:25:59.283940",
     "exception": false,
     "start_time": "2021-12-05T13:25:58.277553",
     "status": "completed"
    },
    "tags": []
   },
   "outputs": [],
   "source": [
    "# if you want to see image and label\n",
    "# define dic for converting label to test_label\n",
    "#['surprise', 'fear', 'angry', 'neutral', 'sad', 'disgust', 'happy']\n",
    "label_to_text={0:\"surprise\",1:\"fear\",2:\"angry\",3:\"neutral\",4:\"sad\",5:\"disgust\",6:\"happy\"}"
   ]
  },
  {
   "cell_type": "code",
   "execution_count": 16,
   "id": "d4193599",
   "metadata": {
    "execution": {
     "iopub.execute_input": "2021-12-05T13:26:01.335125Z",
     "iopub.status.busy": "2021-12-05T13:26:01.334500Z",
     "iopub.status.idle": "2021-12-05T13:26:01.337152Z",
     "shell.execute_reply": "2021-12-05T13:26:01.337575Z",
     "shell.execute_reply.started": "2021-12-05T08:54:25.813206Z"
    },
    "papermill": {
     "duration": 1.050832,
     "end_time": "2021-12-05T13:26:01.337704",
     "exception": false,
     "start_time": "2021-12-05T13:26:00.286872",
     "status": "completed"
    },
    "tags": []
   },
   "outputs": [
    {
     "data": {
      "text/plain": [
       "'angry'"
      ]
     },
     "execution_count": 16,
     "metadata": {},
     "output_type": "execute_result"
    }
   ],
   "source": [
    "label_to_text[2]"
   ]
  },
  {
   "cell_type": "code",
   "execution_count": 17,
   "id": "0d4eed66",
   "metadata": {
    "execution": {
     "iopub.execute_input": "2021-12-05T13:26:03.411646Z",
     "iopub.status.busy": "2021-12-05T13:26:03.410978Z",
     "iopub.status.idle": "2021-12-05T13:26:05.225289Z",
     "shell.execute_reply": "2021-12-05T13:26:05.225712Z",
     "shell.execute_reply.started": "2021-12-05T08:54:25.824925Z"
    },
    "papermill": {
     "duration": 2.846154,
     "end_time": "2021-12-05T13:26:05.225856",
     "exception": false,
     "start_time": "2021-12-05T13:26:02.379702",
     "status": "completed"
    },
    "tags": []
   },
   "outputs": [
    {
     "data": {
      "image/png": "[encoded data removed]",
      "text/plain": [
       "<Figure size 1152x1152 with 16 Axes>"
      ]
     },
     "metadata": {},
     "output_type": "display_data"
    }
   ],
   "source": [
    "# define a function \n",
    "def show_examples(image,label,idx):\n",
    "    # create 4x4 figure\n",
    "    fig,axes=plt.subplots(nrows=4,ncols=4,figsize=(16,16))\n",
    "    # loop through each figure\n",
    "    for idx_f,ax in zip(idx,axes.ravel()):\n",
    "        # add image to figure\n",
    "        ax.imshow(image[idx_f].squeeze(),cmap=\"gray\")\n",
    "        # add title to each figure\n",
    "        ax.set_title(label_to_text[label[idx_f]])\n",
    "    plt.show()\n",
    "idx=np.random.choice(16,16)\n",
    "show_examples(image_array,Y_train,idx)"
   ]
  },
  {
   "cell_type": "code",
   "execution_count": 18,
   "id": "9f4542c9",
   "metadata": {
    "execution": {
     "iopub.execute_input": "2021-12-05T13:26:07.249847Z",
     "iopub.status.busy": "2021-12-05T13:26:07.249030Z",
     "iopub.status.idle": "2021-12-05T13:26:07.777451Z",
     "shell.execute_reply": "2021-12-05T13:26:07.776930Z",
     "shell.execute_reply.started": "2021-12-05T08:54:27.393381Z"
    },
    "papermill": {
     "duration": 1.544383,
     "end_time": "2021-12-05T13:26:07.777592",
     "exception": false,
     "start_time": "2021-12-05T13:26:06.233209",
     "status": "completed"
    },
    "tags": []
   },
   "outputs": [],
   "source": [
    "# now we will start with our model\n",
    "# import all library required for model\n",
    "from keras import layers,callbacks,utils,applications,optimizers\n",
    "from keras.models import Sequential,Model,load_model\n",
    "# run this block"
   ]
  },
  {
   "cell_type": "code",
   "execution_count": 19,
   "id": "1678e7b8",
   "metadata": {
    "execution": {
     "iopub.execute_input": "2021-12-05T13:26:09.802847Z",
     "iopub.status.busy": "2021-12-05T13:26:09.802253Z",
     "iopub.status.idle": "2021-12-05T13:26:13.608340Z",
     "shell.execute_reply": "2021-12-05T13:26:13.608783Z",
     "shell.execute_reply.started": "2021-12-05T08:54:27.924465Z"
    },
    "papermill": {
     "duration": 4.82102,
     "end_time": "2021-12-05T13:26:13.608949",
     "exception": false,
     "start_time": "2021-12-05T13:26:08.787929",
     "status": "completed"
    },
    "tags": []
   },
   "outputs": [
    {
     "name": "stderr",
     "output_type": "stream",
     "text": [
      "2021-12-05 13:26:09.863835: I tensorflow/stream_executor/cuda/cuda_gpu_executor.cc:937] successful NUMA node read from SysFS had negative value (-1), but there must be at least one NUMA node, so returning NUMA node zero\n",
      "2021-12-05 13:26:09.962293: I tensorflow/stream_executor/cuda/cuda_gpu_executor.cc:937] successful NUMA node read from SysFS had negative value (-1), but there must be at least one NUMA node, so returning NUMA node zero\n",
      "2021-12-05 13:26:09.962980: I tensorflow/stream_executor/cuda/cuda_gpu_executor.cc:937] successful NUMA node read from SysFS had negative value (-1), but there must be at least one NUMA node, so returning NUMA node zero\n",
      "2021-12-05 13:26:09.964097: I tensorflow/core/platform/cpu_feature_guard.cc:142] This TensorFlow binary is optimized with oneAPI Deep Neural Network Library (oneDNN) to use the following CPU instructions in performance-critical operations:  AVX2 AVX512F FMA\n",
      "To enable them in other operations, rebuild TensorFlow with the appropriate compiler flags.\n",
      "2021-12-05 13:26:09.965000: I tensorflow/stream_executor/cuda/cuda_gpu_executor.cc:937] successful NUMA node read from SysFS had negative value (-1), but there must be at least one NUMA node, so returning NUMA node zero\n",
      "2021-12-05 13:26:09.965734: I tensorflow/stream_executor/cuda/cuda_gpu_executor.cc:937] successful NUMA node read from SysFS had negative value (-1), but there must be at least one NUMA node, so returning NUMA node zero\n",
      "2021-12-05 13:26:09.966377: I tensorflow/stream_executor/cuda/cuda_gpu_executor.cc:937] successful NUMA node read from SysFS had negative value (-1), but there must be at least one NUMA node, so returning NUMA node zero\n",
      "2021-12-05 13:26:11.544801: I tensorflow/stream_executor/cuda/cuda_gpu_executor.cc:937] successful NUMA node read from SysFS had negative value (-1), but there must be at least one NUMA node, so returning NUMA node zero\n",
      "2021-12-05 13:26:11.545630: I tensorflow/stream_executor/cuda/cuda_gpu_executor.cc:937] successful NUMA node read from SysFS had negative value (-1), but there must be at least one NUMA node, so returning NUMA node zero\n",
      "2021-12-05 13:26:11.546283: I tensorflow/stream_executor/cuda/cuda_gpu_executor.cc:937] successful NUMA node read from SysFS had negative value (-1), but there must be at least one NUMA node, so returning NUMA node zero\n",
      "2021-12-05 13:26:11.546879: I tensorflow/core/common_runtime/gpu/gpu_device.cc:1510] Created device /job:localhost/replica:0/task:0/device:GPU:0 with 15403 MB memory:  -> device: 0, name: Tesla P100-PCIE-16GB, pci bus id: 0000:00:04.0, compute capability: 6.0\n"
     ]
    },
    {
     "name": "stdout",
     "output_type": "stream",
     "text": [
      "Downloading data from https://storage.googleapis.com/tensorflow/keras-applications/mobilenet_v2/mobilenet_v2_weights_tf_dim_ordering_tf_kernels_1.0_224_no_top.h5\n",
      "9412608/9406464 [==============================] - 0s 0us/step\n",
      "9420800/9406464 [==============================] - 0s 0us/step\n",
      "Model: \"sequential\"\n",
      "_________________________________________________________________\n",
      "Layer (type)                 Output Shape              Param #   \n",
      "=================================================================\n",
      "mobilenetv2_1.00_224 (Functi (None, 2, 2, 1280)        2257984   \n",
      "_________________________________________________________________\n",
      "global_average_pooling2d (Gl (None, 1280)              0         \n",
      "_________________________________________________________________\n",
      "dropout (Dropout)            (None, 1280)              0         \n",
      "_________________________________________________________________\n",
      "dense (Dense)                (None, 1)                 1281      \n",
      "=================================================================\n",
      "Total params: 2,259,265\n",
      "Trainable params: 2,225,153\n",
      "Non-trainable params: 34,112\n",
      "_________________________________________________________________\n"
     ]
    }
   ],
   "source": [
    "model=Sequential()\n",
    "# I will use MobileNetV2 as an pretrained model \n",
    "pretrained_model=tf.keras.applications.mobilenet_v2.MobileNetV2(input_shape=(48,48,3),include_top=False,\n",
    "                                         weights=\"imagenet\")\n",
    "# you can use other pretrained model to increase accuracy or increase frame rate\n",
    "# change all non-trainable layer to trainable\n",
    "pretrained_model.trainable=True\n",
    "# add pretrained_model to model\n",
    "model.add(pretrained_model)\n",
    "model.add(layers.GlobalAveragePooling2D())\n",
    "# add dropout to increase accuracy by not overfitting\n",
    "model.add(layers.Dropout(0.3))\n",
    "# add dense layer as final output\n",
    "model.add(layers.Dense(1))\n",
    "model.summary()"
   ]
  },
  {
   "cell_type": "code",
   "execution_count": 20,
   "id": "75066718",
   "metadata": {
    "execution": {
     "iopub.execute_input": "2021-12-05T13:26:15.964776Z",
     "iopub.status.busy": "2021-12-05T13:26:15.963892Z",
     "iopub.status.idle": "2021-12-05T13:26:15.965978Z",
     "shell.execute_reply": "2021-12-05T13:26:15.966387Z",
     "shell.execute_reply.started": "2021-12-05T08:54:31.751886Z"
    },
    "papermill": {
     "duration": 1.295967,
     "end_time": "2021-12-05T13:26:15.966530",
     "exception": false,
     "start_time": "2021-12-05T13:26:14.670563",
     "status": "completed"
    },
    "tags": []
   },
   "outputs": [],
   "source": [
    "# you can add more layer to increase accuracy"
   ]
  },
  {
   "cell_type": "code",
   "execution_count": 21,
   "id": "8d42bdb0",
   "metadata": {
    "execution": {
     "iopub.execute_input": "2021-12-05T13:26:18.005977Z",
     "iopub.status.busy": "2021-12-05T13:26:18.004664Z",
     "iopub.status.idle": "2021-12-05T13:26:18.007164Z",
     "shell.execute_reply": "2021-12-05T13:26:18.007597Z",
     "shell.execute_reply.started": "2021-12-05T08:54:31.759622Z"
    },
    "papermill": {
     "duration": 1.026771,
     "end_time": "2021-12-05T13:26:18.007744",
     "exception": false,
     "start_time": "2021-12-05T13:26:16.980973",
     "status": "completed"
    },
    "tags": []
   },
   "outputs": [],
   "source": [
    "from tensorflow.keras.optimizers import Adam"
   ]
  },
  {
   "cell_type": "code",
   "execution_count": 22,
   "id": "1cdb46c8",
   "metadata": {
    "execution": {
     "iopub.execute_input": "2021-12-05T13:26:20.208856Z",
     "iopub.status.busy": "2021-12-05T13:26:20.207986Z",
     "iopub.status.idle": "2021-12-05T13:26:20.232648Z",
     "shell.execute_reply": "2021-12-05T13:26:20.233027Z",
     "shell.execute_reply.started": "2021-12-05T08:54:31.775450Z"
    },
    "papermill": {
     "duration": 1.212197,
     "end_time": "2021-12-05T13:26:20.233198",
     "exception": false,
     "start_time": "2021-12-05T13:26:19.021001",
     "status": "completed"
    },
    "tags": []
   },
   "outputs": [],
   "source": [
    "#compile model\n",
    "\n",
    "model.compile(optimizer=Adam(0.0001),loss=\"mean_squared_error\",metrics=[\"mae\"])\n",
    "# run\n",
    "# starting learning rate is 1e-3\n",
    "# you can change optimizer, loss function, metrics for better result"
   ]
  },
  {
   "cell_type": "code",
   "execution_count": 23,
   "id": "d01398b6",
   "metadata": {
    "execution": {
     "iopub.execute_input": "2021-12-05T13:26:22.360554Z",
     "iopub.status.busy": "2021-12-05T13:26:22.359670Z",
     "iopub.status.idle": "2021-12-05T13:26:22.361385Z",
     "shell.execute_reply": "2021-12-05T13:26:22.361873Z",
     "shell.execute_reply.started": "2021-12-05T08:54:31.990050Z"
    },
    "papermill": {
     "duration": 1.106615,
     "end_time": "2021-12-05T13:26:22.362002",
     "exception": false,
     "start_time": "2021-12-05T13:26:21.255387",
     "status": "completed"
    },
    "tags": []
   },
   "outputs": [],
   "source": [
    "# create a model checkpoint to save model\n",
    "ckp_path=\"trained_model/model\"\n",
    "model_checkpoint=tf.keras.callbacks.ModelCheckpoint(filepath=ckp_path,\n",
    "                                                   monitor=\"val_mae\",\n",
    "                                                   save_best_only=True,\n",
    "                                                   save_weights_only=True,\n",
    "                                                   mode=\"auto\")\n",
    "# this checkpoint save model when val_mae is lower then best val_mae\n",
    "#run\n",
    "                                                    "
   ]
  },
  {
   "cell_type": "code",
   "execution_count": 24,
   "id": "25df57e1",
   "metadata": {
    "execution": {
     "iopub.execute_input": "2021-12-05T13:26:24.425600Z",
     "iopub.status.busy": "2021-12-05T13:26:24.424688Z",
     "iopub.status.idle": "2021-12-05T13:26:24.426396Z",
     "shell.execute_reply": "2021-12-05T13:26:24.426894Z",
     "shell.execute_reply.started": "2021-12-05T08:54:31.996884Z"
    },
    "papermill": {
     "duration": 1.040083,
     "end_time": "2021-12-05T13:26:24.427028",
     "exception": false,
     "start_time": "2021-12-05T13:26:23.386945",
     "status": "completed"
    },
    "tags": []
   },
   "outputs": [],
   "source": [
    "# now we will define learning rate reducer \n",
    "reduce_lr=tf.keras.callbacks.ReduceLROnPlateau(factor=0.9,\n",
    "                                              monitor=\"val_mae\",\n",
    "                                              mode=\"auto\",\n",
    "                                              cooldown=0,\n",
    "                                              patience=5,\n",
    "                                              verbose=1,\n",
    "                                              min_lr=1e-6)\n",
    "# this will decrease learning rate when val_mae does't decrease durning last 5 epoch\n",
    "# verbose is use to show val_mae every epoch\n"
   ]
  },
  {
   "cell_type": "code",
   "execution_count": 25,
   "id": "84d7f69a",
   "metadata": {
    "execution": {
     "iopub.execute_input": "2021-12-05T13:26:27.269970Z",
     "iopub.status.busy": "2021-12-05T13:26:27.269386Z",
     "iopub.status.idle": "2021-12-05T14:35:56.454446Z",
     "shell.execute_reply": "2021-12-05T14:35:56.454885Z",
     "shell.execute_reply.started": "2021-12-05T08:54:32.009524Z"
    },
    "papermill": {
     "duration": 4170.480569,
     "end_time": "2021-12-05T14:35:56.455060",
     "exception": false,
     "start_time": "2021-12-05T13:26:25.974491",
     "status": "completed"
    },
    "tags": []
   },
   "outputs": [
    {
     "name": "stderr",
     "output_type": "stream",
     "text": [
      "2021-12-05 13:26:27.936299: W tensorflow/core/framework/cpu_allocator_impl.cc:80] Allocation of 1766486016 exceeds 10% of free system memory.\n",
      "2021-12-05 13:26:29.710411: W tensorflow/core/framework/cpu_allocator_impl.cc:80] Allocation of 1766486016 exceeds 10% of free system memory.\n",
      "2021-12-05 13:26:30.994822: I tensorflow/compiler/mlir/mlir_graph_optimization_pass.cc:185] None of the MLIR Optimization Passes are enabled (registered 2)\n"
     ]
    },
    {
     "name": "stdout",
     "output_type": "stream",
     "text": [
      "Epoch 1/150\n"
     ]
    },
    {
     "name": "stderr",
     "output_type": "stream",
     "text": [
      "2021-12-05 13:26:35.303338: I tensorflow/stream_executor/cuda/cuda_dnn.cc:369] Loaded cuDNN version 8005\n"
     ]
    },
    {
     "name": "stdout",
     "output_type": "stream",
     "text": [
      "999/999 [==============================] - 38s 28ms/step - loss: 3.9520 - mae: 1.5943 - val_loss: 30.9055 - val_mae: 5.1423\n",
      "Epoch 2/150\n",
      "999/999 [==============================] - 27s 27ms/step - loss: 2.7105 - mae: 1.3134 - val_loss: 5.5562 - val_mae: 1.9310\n",
      "Epoch 3/150\n",
      "999/999 [==============================] - 27s 27ms/step - loss: 2.3393 - mae: 1.2079 - val_loss: 3.6829 - val_mae: 1.5331\n",
      "Epoch 4/150\n",
      "999/999 [==============================] - 26s 26ms/step - loss: 2.1086 - mae: 1.1369 - val_loss: 2.8367 - val_mae: 1.3062\n",
      "Epoch 5/150\n",
      "999/999 [==============================] - 27s 27ms/step - loss: 1.8967 - mae: 1.0658 - val_loss: 2.6338 - val_mae: 1.2533\n",
      "Epoch 6/150\n",
      "999/999 [==============================] - 27s 27ms/step - loss: 1.7317 - mae: 1.0128 - val_loss: 2.7699 - val_mae: 1.2743\n",
      "Epoch 7/150\n",
      "999/999 [==============================] - 27s 27ms/step - loss: 1.5926 - mae: 0.9643 - val_loss: 2.3658 - val_mae: 1.1655\n",
      "Epoch 8/150\n",
      "999/999 [==============================] - 28s 28ms/step - loss: 1.3978 - mae: 0.9014 - val_loss: 2.2994 - val_mae: 1.1412\n",
      "Epoch 9/150\n",
      "999/999 [==============================] - 27s 27ms/step - loss: 1.2435 - mae: 0.8455 - val_loss: 2.3479 - val_mae: 1.1274\n",
      "Epoch 10/150\n",
      "999/999 [==============================] - 29s 29ms/step - loss: 1.1157 - mae: 0.8003 - val_loss: 2.3114 - val_mae: 1.1235\n",
      "Epoch 11/150\n",
      "999/999 [==============================] - 29s 29ms/step - loss: 0.9796 - mae: 0.7465 - val_loss: 2.3145 - val_mae: 1.1327\n",
      "Epoch 12/150\n",
      "999/999 [==============================] - 28s 28ms/step - loss: 0.8937 - mae: 0.7138 - val_loss: 2.5767 - val_mae: 1.1747\n",
      "Epoch 13/150\n",
      "999/999 [==============================] - 28s 28ms/step - loss: 0.7991 - mae: 0.6717 - val_loss: 2.4604 - val_mae: 1.1359\n",
      "Epoch 14/150\n",
      "999/999 [==============================] - 29s 29ms/step - loss: 0.7479 - mae: 0.6499 - val_loss: 2.3973 - val_mae: 1.1326\n",
      "Epoch 15/150\n",
      "999/999 [==============================] - 27s 27ms/step - loss: 0.7029 - mae: 0.6273 - val_loss: 2.3615 - val_mae: 1.1013\n",
      "Epoch 16/150\n",
      "999/999 [==============================] - 28s 28ms/step - loss: 0.7205 - mae: 0.6366 - val_loss: 2.3098 - val_mae: 1.0983\n",
      "Epoch 17/150\n",
      "999/999 [==============================] - 29s 29ms/step - loss: 0.6126 - mae: 0.5844 - val_loss: 2.2517 - val_mae: 1.0767\n",
      "Epoch 18/150\n",
      "999/999 [==============================] - 28s 28ms/step - loss: 0.5643 - mae: 0.5626 - val_loss: 2.3676 - val_mae: 1.1138\n",
      "Epoch 19/150\n",
      "999/999 [==============================] - 29s 29ms/step - loss: 0.5106 - mae: 0.5335 - val_loss: 2.4143 - val_mae: 1.1220\n",
      "Epoch 20/150\n",
      "999/999 [==============================] - 27s 27ms/step - loss: 0.5041 - mae: 0.5277 - val_loss: 2.3125 - val_mae: 1.0931\n",
      "Epoch 21/150\n",
      "999/999 [==============================] - 29s 29ms/step - loss: 0.4746 - mae: 0.5115 - val_loss: 2.2447 - val_mae: 1.0728\n",
      "Epoch 22/150\n",
      "999/999 [==============================] - 29s 29ms/step - loss: 0.4537 - mae: 0.5004 - val_loss: 2.2933 - val_mae: 1.0775\n",
      "Epoch 23/150\n",
      "999/999 [==============================] - 29s 29ms/step - loss: 0.4335 - mae: 0.4883 - val_loss: 2.2738 - val_mae: 1.0766\n",
      "Epoch 24/150\n",
      "999/999 [==============================] - 29s 29ms/step - loss: 0.4177 - mae: 0.4777 - val_loss: 2.3056 - val_mae: 1.0747\n",
      "Epoch 25/150\n",
      "999/999 [==============================] - 26s 26ms/step - loss: 0.3951 - mae: 0.4654 - val_loss: 2.2684 - val_mae: 1.0778\n",
      "Epoch 26/150\n",
      "999/999 [==============================] - 29s 29ms/step - loss: 0.3794 - mae: 0.4562 - val_loss: 2.1598 - val_mae: 1.0464\n",
      "Epoch 27/150\n",
      "999/999 [==============================] - 30s 30ms/step - loss: 0.3665 - mae: 0.4469 - val_loss: 2.2885 - val_mae: 1.0826\n",
      "Epoch 28/150\n",
      "999/999 [==============================] - 27s 27ms/step - loss: 0.3487 - mae: 0.4362 - val_loss: 2.2229 - val_mae: 1.0544\n",
      "Epoch 29/150\n",
      "999/999 [==============================] - 29s 29ms/step - loss: 0.3279 - mae: 0.4223 - val_loss: 2.1952 - val_mae: 1.0572\n",
      "Epoch 30/150\n",
      "999/999 [==============================] - 27s 27ms/step - loss: 0.3171 - mae: 0.4152 - val_loss: 2.2119 - val_mae: 1.0576\n",
      "Epoch 31/150\n",
      "999/999 [==============================] - 26s 26ms/step - loss: 0.3116 - mae: 0.4102 - val_loss: 2.2433 - val_mae: 1.0553\n",
      "\n",
      "Epoch 00031: ReduceLROnPlateau reducing learning rate to 8.999999772640876e-05.\n",
      "Epoch 32/150\n",
      "999/999 [==============================] - 29s 29ms/step - loss: 0.2852 - mae: 0.3933 - val_loss: 2.1985 - val_mae: 1.0303\n",
      "Epoch 33/150\n",
      "999/999 [==============================] - 26s 26ms/step - loss: 0.2630 - mae: 0.3777 - val_loss: 2.2487 - val_mae: 1.0380\n",
      "Epoch 34/150\n",
      "999/999 [==============================] - 28s 28ms/step - loss: 0.2579 - mae: 0.3740 - val_loss: 2.1783 - val_mae: 1.0317\n",
      "Epoch 35/150\n",
      "999/999 [==============================] - 27s 27ms/step - loss: 0.2588 - mae: 0.3736 - val_loss: 2.0900 - val_mae: 1.0005\n",
      "Epoch 36/150\n",
      "999/999 [==============================] - 26s 26ms/step - loss: 0.2365 - mae: 0.3579 - val_loss: 2.2011 - val_mae: 1.0302\n",
      "Epoch 37/150\n",
      "999/999 [==============================] - 28s 28ms/step - loss: 0.2355 - mae: 0.3558 - val_loss: 2.1041 - val_mae: 1.0145\n",
      "Epoch 38/150\n",
      "999/999 [==============================] - 26s 26ms/step - loss: 0.2262 - mae: 0.3500 - val_loss: 2.1482 - val_mae: 1.0183\n",
      "Epoch 39/150\n",
      "999/999 [==============================] - 27s 27ms/step - loss: 0.2187 - mae: 0.3425 - val_loss: 2.0774 - val_mae: 0.9988\n",
      "Epoch 40/150\n",
      "999/999 [==============================] - 28s 28ms/step - loss: 0.2200 - mae: 0.3445 - val_loss: 2.0840 - val_mae: 0.9928\n",
      "Epoch 41/150\n",
      "999/999 [==============================] - 26s 26ms/step - loss: 0.2097 - mae: 0.3354 - val_loss: 2.0614 - val_mae: 0.9827\n",
      "Epoch 42/150\n",
      "999/999 [==============================] - 29s 29ms/step - loss: 0.2092 - mae: 0.3327 - val_loss: 2.0658 - val_mae: 1.0010\n",
      "Epoch 43/150\n",
      "999/999 [==============================] - 26s 26ms/step - loss: 0.1974 - mae: 0.3255 - val_loss: 2.0384 - val_mae: 0.9904\n",
      "Epoch 44/150\n",
      "999/999 [==============================] - 27s 27ms/step - loss: 0.1958 - mae: 0.3229 - val_loss: 2.0786 - val_mae: 0.9887\n",
      "Epoch 45/150\n",
      "999/999 [==============================] - 29s 29ms/step - loss: 0.1925 - mae: 0.3193 - val_loss: 2.1342 - val_mae: 1.0066\n",
      "Epoch 46/150\n",
      "999/999 [==============================] - 26s 26ms/step - loss: 0.1843 - mae: 0.3130 - val_loss: 2.1610 - val_mae: 0.9938\n",
      "\n",
      "Epoch 00046: ReduceLROnPlateau reducing learning rate to 8.100000122794882e-05.\n",
      "Epoch 47/150\n",
      "999/999 [==============================] - 29s 29ms/step - loss: 0.1835 - mae: 0.3115 - val_loss: 2.0560 - val_mae: 0.9881\n",
      "Epoch 48/150\n",
      "999/999 [==============================] - 26s 26ms/step - loss: 0.1865 - mae: 0.3135 - val_loss: 2.0831 - val_mae: 0.9826\n",
      "Epoch 49/150\n",
      "999/999 [==============================] - 26s 26ms/step - loss: 0.1542 - mae: 0.2883 - val_loss: 2.0440 - val_mae: 0.9680\n",
      "Epoch 50/150\n",
      "999/999 [==============================] - 29s 29ms/step - loss: 0.1521 - mae: 0.2857 - val_loss: 2.0506 - val_mae: 0.9946\n",
      "Epoch 51/150\n",
      "999/999 [==============================] - 26s 26ms/step - loss: 0.1551 - mae: 0.2864 - val_loss: 2.0628 - val_mae: 0.9721\n",
      "Epoch 52/150\n",
      "999/999 [==============================] - 30s 30ms/step - loss: 0.1509 - mae: 0.2835 - val_loss: 2.0209 - val_mae: 0.9670\n",
      "Epoch 53/150\n",
      "999/999 [==============================] - 26s 26ms/step - loss: 0.1522 - mae: 0.2835 - val_loss: 2.0171 - val_mae: 0.9637\n",
      "Epoch 54/150\n",
      "999/999 [==============================] - 26s 26ms/step - loss: 0.1493 - mae: 0.2807 - val_loss: 2.0553 - val_mae: 0.9724\n",
      "Epoch 55/150\n",
      "999/999 [==============================] - 30s 30ms/step - loss: 0.1446 - mae: 0.2767 - val_loss: 2.0357 - val_mae: 0.9641\n",
      "Epoch 56/150\n",
      "999/999 [==============================] - 26s 26ms/step - loss: 0.1439 - mae: 0.2754 - val_loss: 2.0255 - val_mae: 0.9626\n",
      "Epoch 57/150\n",
      "999/999 [==============================] - 28s 28ms/step - loss: 0.1511 - mae: 0.2794 - val_loss: 2.0458 - val_mae: 0.9678\n",
      "Epoch 58/150\n",
      "999/999 [==============================] - 28s 28ms/step - loss: 0.1342 - mae: 0.2663 - val_loss: 2.0540 - val_mae: 0.9807\n",
      "Epoch 59/150\n",
      "999/999 [==============================] - 26s 26ms/step - loss: 0.1399 - mae: 0.2702 - val_loss: 2.1376 - val_mae: 0.9871\n",
      "Epoch 60/150\n",
      "999/999 [==============================] - 30s 30ms/step - loss: 0.1396 - mae: 0.2683 - val_loss: 2.0627 - val_mae: 0.9757\n",
      "Epoch 61/150\n",
      "999/999 [==============================] - 26s 26ms/step - loss: 0.1309 - mae: 0.2621 - val_loss: 2.0190 - val_mae: 0.9588\n",
      "Epoch 62/150\n",
      "999/999 [==============================] - 26s 26ms/step - loss: 0.1276 - mae: 0.2584 - val_loss: 2.1294 - val_mae: 0.9896\n",
      "Epoch 63/150\n",
      "999/999 [==============================] - 30s 30ms/step - loss: 0.1264 - mae: 0.2566 - val_loss: 2.0719 - val_mae: 0.9509\n",
      "Epoch 64/150\n",
      "999/999 [==============================] - 26s 26ms/step - loss: 0.1307 - mae: 0.2610 - val_loss: 1.9961 - val_mae: 0.9561\n",
      "Epoch 65/150\n",
      "999/999 [==============================] - 30s 30ms/step - loss: 0.1286 - mae: 0.2578 - val_loss: 2.0105 - val_mae: 0.9464\n",
      "Epoch 66/150\n",
      "999/999 [==============================] - 27s 27ms/step - loss: 0.1308 - mae: 0.2576 - val_loss: 2.1140 - val_mae: 0.9742\n",
      "Epoch 67/150\n",
      "999/999 [==============================] - 27s 27ms/step - loss: 0.1224 - mae: 0.2515 - val_loss: 2.0595 - val_mae: 0.9542\n",
      "Epoch 68/150\n",
      "999/999 [==============================] - 31s 31ms/step - loss: 0.1197 - mae: 0.2485 - val_loss: 2.0508 - val_mae: 0.9481\n",
      "Epoch 69/150\n",
      "999/999 [==============================] - 26s 26ms/step - loss: 0.1145 - mae: 0.2440 - val_loss: 2.0594 - val_mae: 0.9474\n",
      "Epoch 70/150\n",
      "999/999 [==============================] - 26s 26ms/step - loss: 0.1237 - mae: 0.2503 - val_loss: 2.1014 - val_mae: 0.9700\n",
      "\n",
      "Epoch 00070: ReduceLROnPlateau reducing learning rate to 7.289999848580919e-05.\n",
      "Epoch 71/150\n",
      "999/999 [==============================] - 31s 31ms/step - loss: 0.1117 - mae: 0.2397 - val_loss: 2.0382 - val_mae: 0.9422\n",
      "Epoch 72/150\n",
      "999/999 [==============================] - 26s 26ms/step - loss: 0.1053 - mae: 0.2340 - val_loss: 1.9991 - val_mae: 0.9430\n",
      "Epoch 73/150\n",
      "999/999 [==============================] - 26s 26ms/step - loss: 0.1015 - mae: 0.2295 - val_loss: 2.0616 - val_mae: 0.9395\n",
      "Epoch 74/150\n",
      "999/999 [==============================] - 26s 26ms/step - loss: 0.1012 - mae: 0.2293 - val_loss: 1.9849 - val_mae: 0.9383\n",
      "Epoch 75/150\n",
      "999/999 [==============================] - 26s 26ms/step - loss: 0.0982 - mae: 0.2262 - val_loss: 2.0252 - val_mae: 0.9369\n",
      "Epoch 76/150\n",
      "999/999 [==============================] - 31s 31ms/step - loss: 0.0959 - mae: 0.2231 - val_loss: 2.0471 - val_mae: 0.9524\n",
      "Epoch 77/150\n",
      "999/999 [==============================] - 26s 26ms/step - loss: 0.0992 - mae: 0.2256 - val_loss: 2.0132 - val_mae: 0.9342\n",
      "Epoch 78/150\n",
      "999/999 [==============================] - 26s 26ms/step - loss: 0.0981 - mae: 0.2243 - val_loss: 2.0342 - val_mae: 0.9475\n",
      "Epoch 79/150\n",
      "999/999 [==============================] - 26s 26ms/step - loss: 0.0951 - mae: 0.2200 - val_loss: 2.0068 - val_mae: 0.9343\n",
      "Epoch 80/150\n",
      "999/999 [==============================] - 26s 26ms/step - loss: 0.0923 - mae: 0.2176 - val_loss: 2.0002 - val_mae: 0.9289\n",
      "Epoch 81/150\n",
      "999/999 [==============================] - 31s 31ms/step - loss: 0.0950 - mae: 0.2202 - val_loss: 2.0406 - val_mae: 0.9367\n",
      "Epoch 82/150\n",
      "999/999 [==============================] - 26s 26ms/step - loss: 0.0924 - mae: 0.2170 - val_loss: 2.0262 - val_mae: 0.9385\n",
      "Epoch 83/150\n",
      "999/999 [==============================] - 26s 26ms/step - loss: 0.0933 - mae: 0.2180 - val_loss: 2.0080 - val_mae: 0.9310\n",
      "Epoch 84/150\n",
      "999/999 [==============================] - 26s 26ms/step - loss: 0.0853 - mae: 0.2101 - val_loss: 2.0492 - val_mae: 0.9365\n",
      "Epoch 85/150\n",
      "999/999 [==============================] - 26s 26ms/step - loss: 0.0892 - mae: 0.2127 - val_loss: 2.0649 - val_mae: 0.9472\n",
      "\n",
      "Epoch 00085: ReduceLROnPlateau reducing learning rate to 6.56100019114092e-05.\n",
      "Epoch 86/150\n",
      "999/999 [==============================] - 32s 32ms/step - loss: 0.0823 - mae: 0.2057 - val_loss: 2.0018 - val_mae: 0.9272\n",
      "Epoch 87/150\n",
      "999/999 [==============================] - 26s 26ms/step - loss: 0.0799 - mae: 0.2026 - val_loss: 1.9865 - val_mae: 0.9167\n",
      "Epoch 88/150\n",
      "999/999 [==============================] - 26s 26ms/step - loss: 0.0821 - mae: 0.2030 - val_loss: 2.0385 - val_mae: 0.9431\n",
      "Epoch 89/150\n",
      "999/999 [==============================] - 26s 26ms/step - loss: 0.0798 - mae: 0.2005 - val_loss: 2.0086 - val_mae: 0.9370\n",
      "Epoch 90/150\n",
      "999/999 [==============================] - 26s 26ms/step - loss: 0.0759 - mae: 0.1958 - val_loss: 2.0292 - val_mae: 0.9282\n",
      "Epoch 91/150\n",
      "999/999 [==============================] - 32s 32ms/step - loss: 0.0793 - mae: 0.1990 - val_loss: 2.0741 - val_mae: 0.9408\n",
      "Epoch 92/150\n",
      "999/999 [==============================] - 26s 26ms/step - loss: 0.0724 - mae: 0.1924 - val_loss: 1.9682 - val_mae: 0.9238\n",
      "\n",
      "Epoch 00092: ReduceLROnPlateau reducing learning rate to 5.904900172026828e-05.\n",
      "Epoch 93/150\n",
      "999/999 [==============================] - 25s 26ms/step - loss: 0.0691 - mae: 0.1876 - val_loss: 2.0241 - val_mae: 0.9248\n",
      "Epoch 94/150\n",
      "999/999 [==============================] - 26s 26ms/step - loss: 0.0687 - mae: 0.1860 - val_loss: 1.9883 - val_mae: 0.9340\n",
      "Epoch 95/150\n",
      "999/999 [==============================] - 26s 26ms/step - loss: 0.0671 - mae: 0.1842 - val_loss: 1.9968 - val_mae: 0.9232\n",
      "Epoch 96/150\n",
      "999/999 [==============================] - 33s 33ms/step - loss: 0.0660 - mae: 0.1831 - val_loss: 2.0221 - val_mae: 0.9288\n",
      "Epoch 97/150\n",
      "999/999 [==============================] - 26s 26ms/step - loss: 0.0623 - mae: 0.1782 - val_loss: 2.0166 - val_mae: 0.9225\n",
      "\n",
      "Epoch 00097: ReduceLROnPlateau reducing learning rate to 5.314410154824145e-05.\n",
      "Epoch 98/150\n",
      "999/999 [==============================] - 26s 26ms/step - loss: 0.0610 - mae: 0.1760 - val_loss: 1.9816 - val_mae: 0.9059\n",
      "Epoch 99/150\n",
      "999/999 [==============================] - 26s 26ms/step - loss: 0.0587 - mae: 0.1728 - val_loss: 2.0053 - val_mae: 0.9111\n",
      "Epoch 100/150\n",
      "999/999 [==============================] - 27s 27ms/step - loss: 0.0591 - mae: 0.1728 - val_loss: 1.9966 - val_mae: 0.9134\n",
      "Epoch 101/150\n",
      "999/999 [==============================] - 32s 32ms/step - loss: 0.0585 - mae: 0.1711 - val_loss: 1.9604 - val_mae: 0.9022\n",
      "Epoch 102/150\n",
      "999/999 [==============================] - 26s 26ms/step - loss: 0.0558 - mae: 0.1690 - val_loss: 1.9929 - val_mae: 0.9126\n",
      "Epoch 103/150\n",
      "999/999 [==============================] - 26s 26ms/step - loss: 0.0553 - mae: 0.1672 - val_loss: 2.0005 - val_mae: 0.9147\n",
      "Epoch 104/150\n",
      "999/999 [==============================] - 26s 26ms/step - loss: 0.0535 - mae: 0.1646 - val_loss: 2.0156 - val_mae: 0.9101\n",
      "Epoch 105/150\n",
      "999/999 [==============================] - 26s 26ms/step - loss: 0.0567 - mae: 0.1681 - val_loss: 2.0015 - val_mae: 0.9148\n",
      "Epoch 106/150\n",
      "999/999 [==============================] - 33s 33ms/step - loss: 0.0589 - mae: 0.1704 - val_loss: 2.0541 - val_mae: 0.9256\n",
      "\n",
      "Epoch 00106: ReduceLROnPlateau reducing learning rate to 4.7829690083744934e-05.\n",
      "Epoch 107/150\n",
      "999/999 [==============================] - 26s 26ms/step - loss: 0.0500 - mae: 0.1594 - val_loss: 1.9896 - val_mae: 0.9085\n",
      "Epoch 108/150\n",
      "999/999 [==============================] - 26s 26ms/step - loss: 0.0490 - mae: 0.1579 - val_loss: 1.9755 - val_mae: 0.9126\n",
      "Epoch 109/150\n",
      "999/999 [==============================] - 26s 26ms/step - loss: 0.0524 - mae: 0.1609 - val_loss: 1.9774 - val_mae: 0.9068\n",
      "Epoch 110/150\n",
      "999/999 [==============================] - 26s 26ms/step - loss: 0.0499 - mae: 0.1580 - val_loss: 2.0008 - val_mae: 0.9003\n",
      "Epoch 111/150\n",
      "999/999 [==============================] - 31s 31ms/step - loss: 0.0468 - mae: 0.1536 - val_loss: 2.0002 - val_mae: 0.9020\n",
      "Epoch 112/150\n",
      "999/999 [==============================] - 30s 30ms/step - loss: 0.0483 - mae: 0.1547 - val_loss: 1.9598 - val_mae: 0.8925\n",
      "Epoch 113/150\n",
      "999/999 [==============================] - 26s 26ms/step - loss: 0.0467 - mae: 0.1528 - val_loss: 1.9783 - val_mae: 0.8998\n",
      "Epoch 114/150\n",
      "999/999 [==============================] - 27s 27ms/step - loss: 0.0456 - mae: 0.1513 - val_loss: 1.9940 - val_mae: 0.9046\n",
      "Epoch 115/150\n",
      "999/999 [==============================] - 26s 26ms/step - loss: 0.0452 - mae: 0.1500 - val_loss: 2.0386 - val_mae: 0.9128\n",
      "Epoch 116/150\n",
      "999/999 [==============================] - 29s 29ms/step - loss: 0.0455 - mae: 0.1502 - val_loss: 2.0796 - val_mae: 0.9199\n",
      "Epoch 117/150\n",
      "999/999 [==============================] - 31s 31ms/step - loss: 0.0447 - mae: 0.1488 - val_loss: 2.0340 - val_mae: 0.9265\n",
      "\n",
      "Epoch 00117: ReduceLROnPlateau reducing learning rate to 4.304672074795235e-05.\n",
      "Epoch 118/150\n",
      "999/999 [==============================] - 26s 26ms/step - loss: 0.0437 - mae: 0.1470 - val_loss: 2.0280 - val_mae: 0.9152\n",
      "Epoch 119/150\n",
      "999/999 [==============================] - 26s 26ms/step - loss: 0.0421 - mae: 0.1444 - val_loss: 2.0167 - val_mae: 0.9165\n",
      "Epoch 120/150\n",
      "999/999 [==============================] - 26s 26ms/step - loss: 0.0397 - mae: 0.1412 - val_loss: 2.0108 - val_mae: 0.9097\n",
      "Epoch 121/150\n",
      "999/999 [==============================] - 26s 26ms/step - loss: 0.0393 - mae: 0.1394 - val_loss: 2.0307 - val_mae: 0.9122\n",
      "Epoch 122/150\n",
      "999/999 [==============================] - 34s 34ms/step - loss: 0.0423 - mae: 0.1437 - val_loss: 2.0512 - val_mae: 0.9051\n",
      "\n",
      "Epoch 00122: ReduceLROnPlateau reducing learning rate to 3.8742047036066654e-05.\n",
      "Epoch 123/150\n",
      "999/999 [==============================] - 26s 26ms/step - loss: 0.0377 - mae: 0.1373 - val_loss: 2.0203 - val_mae: 0.8981\n",
      "Epoch 124/150\n",
      "999/999 [==============================] - 26s 26ms/step - loss: 0.0382 - mae: 0.1376 - val_loss: 2.0285 - val_mae: 0.9007\n",
      "Epoch 125/150\n",
      "999/999 [==============================] - 26s 26ms/step - loss: 0.0361 - mae: 0.1342 - val_loss: 2.0166 - val_mae: 0.9049\n",
      "Epoch 126/150\n",
      "999/999 [==============================] - 26s 26ms/step - loss: 0.0375 - mae: 0.1363 - val_loss: 1.9958 - val_mae: 0.8928\n",
      "Epoch 127/150\n",
      "999/999 [==============================] - 34s 34ms/step - loss: 0.0350 - mae: 0.1323 - val_loss: 2.0002 - val_mae: 0.9178\n",
      "\n",
      "Epoch 00127: ReduceLROnPlateau reducing learning rate to 3.4867842987296176e-05.\n",
      "Epoch 128/150\n",
      "999/999 [==============================] - 26s 26ms/step - loss: 0.0365 - mae: 0.1336 - val_loss: 2.0351 - val_mae: 0.9062\n",
      "Epoch 129/150\n",
      "999/999 [==============================] - 26s 26ms/step - loss: 0.0341 - mae: 0.1300 - val_loss: 2.0067 - val_mae: 0.9071\n",
      "Epoch 130/150\n",
      "999/999 [==============================] - 26s 26ms/step - loss: 0.0335 - mae: 0.1293 - val_loss: 2.0228 - val_mae: 0.9067\n",
      "Epoch 131/150\n",
      "999/999 [==============================] - 26s 26ms/step - loss: 0.0345 - mae: 0.1299 - val_loss: 1.9705 - val_mae: 0.8948\n",
      "Epoch 132/150\n",
      "999/999 [==============================] - 32s 32ms/step - loss: 0.0328 - mae: 0.1280 - val_loss: 2.0142 - val_mae: 0.9106\n",
      "\n",
      "Epoch 00132: ReduceLROnPlateau reducing learning rate to 3.138105967082083e-05.\n",
      "Epoch 133/150\n",
      "999/999 [==============================] - 27s 27ms/step - loss: 0.0321 - mae: 0.1263 - val_loss: 1.9852 - val_mae: 0.8965\n",
      "Epoch 134/150\n",
      "999/999 [==============================] - 26s 26ms/step - loss: 0.0311 - mae: 0.1244 - val_loss: 2.0186 - val_mae: 0.9014\n",
      "Epoch 135/150\n",
      "999/999 [==============================] - 26s 26ms/step - loss: 0.0307 - mae: 0.1235 - val_loss: 1.9742 - val_mae: 0.8921\n",
      "Epoch 136/150\n",
      "999/999 [==============================] - 26s 26ms/step - loss: 0.0298 - mae: 0.1221 - val_loss: 2.0003 - val_mae: 0.8950\n",
      "Epoch 137/150\n",
      "999/999 [==============================] - 29s 29ms/step - loss: 0.0298 - mae: 0.1218 - val_loss: 1.9960 - val_mae: 0.8955\n",
      "Epoch 138/150\n",
      "999/999 [==============================] - 32s 32ms/step - loss: 0.0292 - mae: 0.1210 - val_loss: 1.9792 - val_mae: 0.8885\n",
      "Epoch 139/150\n",
      "999/999 [==============================] - 26s 26ms/step - loss: 0.0299 - mae: 0.1215 - val_loss: 2.0147 - val_mae: 0.8992\n",
      "Epoch 140/150\n",
      "999/999 [==============================] - 26s 26ms/step - loss: 0.0300 - mae: 0.1218 - val_loss: 2.0020 - val_mae: 0.9021\n",
      "Epoch 141/150\n",
      "999/999 [==============================] - 26s 26ms/step - loss: 0.0293 - mae: 0.1205 - val_loss: 2.0034 - val_mae: 0.8936\n",
      "Epoch 142/150\n",
      "999/999 [==============================] - 26s 26ms/step - loss: 0.0290 - mae: 0.1199 - val_loss: 2.0091 - val_mae: 0.8947\n",
      "Epoch 143/150\n",
      "999/999 [==============================] - 35s 35ms/step - loss: 0.0288 - mae: 0.1188 - val_loss: 2.0057 - val_mae: 0.8956\n",
      "\n",
      "Epoch 00143: ReduceLROnPlateau reducing learning rate to 2.824295370373875e-05.\n",
      "Epoch 144/150\n",
      "999/999 [==============================] - 26s 26ms/step - loss: 0.0280 - mae: 0.1174 - val_loss: 2.0166 - val_mae: 0.9014\n",
      "Epoch 145/150\n",
      "999/999 [==============================] - 26s 26ms/step - loss: 0.0272 - mae: 0.1159 - val_loss: 1.9883 - val_mae: 0.8958\n",
      "Epoch 146/150\n",
      "999/999 [==============================] - 26s 26ms/step - loss: 0.0267 - mae: 0.1149 - val_loss: 2.0073 - val_mae: 0.8947\n",
      "Epoch 147/150\n",
      "999/999 [==============================] - 26s 26ms/step - loss: 0.0273 - mae: 0.1157 - val_loss: 2.0071 - val_mae: 0.8915\n",
      "Epoch 148/150\n",
      "999/999 [==============================] - 33s 33ms/step - loss: 0.0262 - mae: 0.1141 - val_loss: 1.9776 - val_mae: 0.8919\n",
      "\n",
      "Epoch 00148: ReduceLROnPlateau reducing learning rate to 2.5418658333364876e-05.\n",
      "Epoch 149/150\n",
      "999/999 [==============================] - 29s 29ms/step - loss: 0.0257 - mae: 0.1132 - val_loss: 2.0099 - val_mae: 0.8887\n",
      "Epoch 150/150\n",
      "999/999 [==============================] - 26s 26ms/step - loss: 0.0252 - mae: 0.1120 - val_loss: 2.0238 - val_mae: 0.8982\n"
     ]
    }
   ],
   "source": [
    "EPOCHS=150\n",
    "BATCH_SIZE=64\n",
    "# start training\n",
    "history=model.fit(image_array,Y_train,\n",
    "                 validation_data=(X_test,Y_test),\n",
    "                 batch_size=BATCH_SIZE,\n",
    "                 epochs=EPOCHS,\n",
    "                 callbacks=[model_checkpoint,reduce_lr])\n",
    "#run"
   ]
  },
  {
   "cell_type": "code",
   "execution_count": 26,
   "id": "c39c4a79",
   "metadata": {
    "execution": {
     "iopub.execute_input": "2021-12-05T14:36:29.713510Z",
     "iopub.status.busy": "2021-12-05T14:36:29.712158Z",
     "iopub.status.idle": "2021-12-05T14:36:29.715976Z",
     "shell.execute_reply": "2021-12-05T14:36:29.715546Z",
     "shell.execute_reply.started": "2021-12-05T12:36:01.373800Z"
    },
    "papermill": {
     "duration": 16.602545,
     "end_time": "2021-12-05T14:36:29.716094",
     "exception": false,
     "start_time": "2021-12-05T14:36:13.113549",
     "status": "completed"
    },
    "tags": []
   },
   "outputs": [],
   "source": [
    "# import matplotlib.pyplot as plt\n",
    "# if the mae value is more near to zero then the model is more accurate"
   ]
  },
  {
   "cell_type": "code",
   "execution_count": 27,
   "id": "d5ef5a3d",
   "metadata": {
    "execution": {
     "iopub.execute_input": "2021-12-05T14:37:03.268600Z",
     "iopub.status.busy": "2021-12-05T14:37:03.267695Z",
     "iopub.status.idle": "2021-12-05T14:37:03.270422Z",
     "shell.execute_reply": "2021-12-05T14:37:03.270788Z",
     "shell.execute_reply.started": "2021-12-05T12:36:01.379886Z"
    },
    "papermill": {
     "duration": 16.777677,
     "end_time": "2021-12-05T14:37:03.270930",
     "exception": false,
     "start_time": "2021-12-05T14:36:46.493253",
     "status": "completed"
    },
    "tags": []
   },
   "outputs": [
    {
     "data": {
      "text/plain": [
       "dict_keys(['loss', 'mae', 'val_loss', 'val_mae', 'lr'])"
      ]
     },
     "execution_count": 27,
     "metadata": {},
     "output_type": "execute_result"
    }
   ],
   "source": [
    "history.history.keys()"
   ]
  },
  {
   "cell_type": "code",
   "execution_count": 28,
   "id": "36f500dc",
   "metadata": {
    "execution": {
     "iopub.execute_input": "2021-12-05T14:37:36.550646Z",
     "iopub.status.busy": "2021-12-05T14:37:36.548881Z",
     "iopub.status.idle": "2021-12-05T14:37:36.551248Z",
     "shell.execute_reply": "2021-12-05T14:37:36.551682Z",
     "shell.execute_reply.started": "2021-12-05T12:36:01.398877Z"
    },
    "papermill": {
     "duration": 16.610329,
     "end_time": "2021-12-05T14:37:36.551822",
     "exception": false,
     "start_time": "2021-12-05T14:37:19.941493",
     "status": "completed"
    },
    "tags": []
   },
   "outputs": [],
   "source": [
    "hist = history.history"
   ]
  },
  {
   "cell_type": "code",
   "execution_count": 29,
   "id": "39efc8fc",
   "metadata": {
    "execution": {
     "iopub.execute_input": "2021-12-05T14:38:10.100438Z",
     "iopub.status.busy": "2021-12-05T14:38:10.098828Z",
     "iopub.status.idle": "2021-12-05T14:38:10.100998Z",
     "shell.execute_reply": "2021-12-05T14:38:10.101436Z",
     "shell.execute_reply.started": "2021-12-05T12:36:01.405261Z"
    },
    "papermill": {
     "duration": 16.632573,
     "end_time": "2021-12-05T14:38:10.101577",
     "exception": false,
     "start_time": "2021-12-05T14:37:53.469004",
     "status": "completed"
    },
    "tags": []
   },
   "outputs": [],
   "source": [
    "hist['val_mae']\n",
    "accuracy = [1-x for x in hist['loss']]"
   ]
  },
  {
   "cell_type": "code",
   "execution_count": null,
   "id": "e39ed5d2",
   "metadata": {
    "papermill": {
     "duration": 16.612384,
     "end_time": "2021-12-05T14:38:43.481650",
     "exception": false,
     "start_time": "2021-12-05T14:38:26.869266",
     "status": "completed"
    },
    "tags": []
   },
   "outputs": [],
   "source": []
  },
  {
   "cell_type": "code",
   "execution_count": 30,
   "id": "ffbbcdc1",
   "metadata": {
    "execution": {
     "iopub.execute_input": "2021-12-05T14:39:17.089409Z",
     "iopub.status.busy": "2021-12-05T14:39:17.088507Z",
     "iopub.status.idle": "2021-12-05T14:39:17.282674Z",
     "shell.execute_reply": "2021-12-05T14:39:17.283200Z",
     "shell.execute_reply.started": "2021-12-05T12:58:55.908965Z"
    },
    "papermill": {
     "duration": 16.913289,
     "end_time": "2021-12-05T14:39:17.283354",
     "exception": false,
     "start_time": "2021-12-05T14:39:00.370065",
     "status": "completed"
    },
    "tags": []
   },
   "outputs": [
    {
     "data": {
      "image/png": "[encoded data removed]",
      "text/plain": [
       "<Figure size 432x288 with 1 Axes>"
      ]
     },
     "metadata": {},
     "output_type": "display_data"
    }
   ],
   "source": [
    "\n",
    "plt.title(\"MEAN ABSOLUTE ERROR\")\n",
    "plt.xlabel(\"No of Epoch\")\n",
    "plt.ylabel(\"Error\")\n",
    "plt.plot(history.history['lr'],label=\"Learning Rate\")\n",
    "\n",
    "plt.legend()\n",
    "plt.show()\n"
   ]
  },
  {
   "cell_type": "code",
   "execution_count": 31,
   "id": "79eb5593",
   "metadata": {
    "execution": {
     "iopub.execute_input": "2021-12-05T14:39:50.645829Z",
     "iopub.status.busy": "2021-12-05T14:39:50.644763Z",
     "iopub.status.idle": "2021-12-05T14:39:50.851447Z",
     "shell.execute_reply": "2021-12-05T14:39:50.850765Z",
     "shell.execute_reply.started": "2021-12-05T12:59:24.225022Z"
    },
    "papermill": {
     "duration": 16.71954,
     "end_time": "2021-12-05T14:39:50.851574",
     "exception": false,
     "start_time": "2021-12-05T14:39:34.132034",
     "status": "completed"
    },
    "tags": []
   },
   "outputs": [
    {
     "data": {
      "image/png": "[encoded data removed]",
      "text/plain": [
       "<Figure size 432x288 with 1 Axes>"
      ]
     },
     "metadata": {},
     "output_type": "display_data"
    }
   ],
   "source": [
    "plt.xlabel(\"NO OF EPOCH\")\n",
    "plt.ylabel(\"VALUE\")\n",
    "plt.plot(history.history['loss'], label=\"Loss\")\n",
    "plt.title(\"MEAN ABSOLUTE ERROR\")\n",
    "plt.plot(history.history['mae'],label=\"Mean Absolute Error\")\n",
    "plt.legend()\n",
    "plt.show()\n"
   ]
  },
  {
   "cell_type": "code",
   "execution_count": 32,
   "id": "d6e9ae3d",
   "metadata": {
    "execution": {
     "iopub.execute_input": "2021-12-05T14:40:24.538878Z",
     "iopub.status.busy": "2021-12-05T14:40:24.538003Z",
     "iopub.status.idle": "2021-12-05T14:40:24.546688Z",
     "shell.execute_reply": "2021-12-05T14:40:24.547093Z",
     "shell.execute_reply.started": "2021-12-05T12:36:01.441819Z"
    },
    "papermill": {
     "duration": 16.809297,
     "end_time": "2021-12-05T14:40:24.547243",
     "exception": false,
     "start_time": "2021-12-05T14:40:07.737946",
     "status": "completed"
    },
    "tags": []
   },
   "outputs": [
    {
     "data": {
      "text/plain": [
       "{'loss': [3.9519543647766113,\n",
       "  2.710495948791504,\n",
       "  2.339303493499756,\n",
       "  2.1085944175720215,\n",
       "  1.896748661994934,\n",
       "  1.731725811958313,\n",
       "  1.5925582647323608,\n",
       "  1.3977750539779663,\n",
       "  1.2434704303741455,\n",
       "  1.1156960725784302,\n",
       "  0.979604959487915,\n",
       "  0.8937339782714844,\n",
       "  0.7991237044334412,\n",
       "  0.7478982210159302,\n",
       "  0.702893853187561,\n",
       "  0.7204948663711548,\n",
       "  0.6126100420951843,\n",
       "  0.5643271207809448,\n",
       "  0.510644257068634,\n",
       "  0.5040830969810486,\n",
       "  0.4745742380619049,\n",
       "  0.4537346661090851,\n",
       "  0.43351611495018005,\n",
       "  0.417739599943161,\n",
       "  0.39512085914611816,\n",
       "  0.37943556904792786,\n",
       "  0.3665079176425934,\n",
       "  0.3487478494644165,\n",
       "  0.3279382586479187,\n",
       "  0.31706175208091736,\n",
       "  0.311604380607605,\n",
       "  0.28516560792922974,\n",
       "  0.26301753520965576,\n",
       "  0.25789621472358704,\n",
       "  0.2587810158729553,\n",
       "  0.2364838421344757,\n",
       "  0.23548325896263123,\n",
       "  0.22621941566467285,\n",
       "  0.21871212124824524,\n",
       "  0.22003178298473358,\n",
       "  0.20970337092876434,\n",
       "  0.2092461884021759,\n",
       "  0.1973555088043213,\n",
       "  0.19582608342170715,\n",
       "  0.19250431656837463,\n",
       "  0.18432758748531342,\n",
       "  0.18345996737480164,\n",
       "  0.18652072548866272,\n",
       "  0.1542152315378189,\n",
       "  0.15206316113471985,\n",
       "  0.15509463846683502,\n",
       "  0.15085169672966003,\n",
       "  0.15217307209968567,\n",
       "  0.14933016896247864,\n",
       "  0.14463599026203156,\n",
       "  0.1439497172832489,\n",
       "  0.15110710263252258,\n",
       "  0.13422660529613495,\n",
       "  0.13986201584339142,\n",
       "  0.1395881026983261,\n",
       "  0.1308995932340622,\n",
       "  0.12762559950351715,\n",
       "  0.12635265290737152,\n",
       "  0.13067297637462616,\n",
       "  0.1286194622516632,\n",
       "  0.130771204829216,\n",
       "  0.12241566926240921,\n",
       "  0.11965180188417435,\n",
       "  0.11448924243450165,\n",
       "  0.12365788221359253,\n",
       "  0.11174148321151733,\n",
       "  0.10530500113964081,\n",
       "  0.1014910489320755,\n",
       "  0.10123350471258163,\n",
       "  0.09818167984485626,\n",
       "  0.09590271860361099,\n",
       "  0.0991518497467041,\n",
       "  0.09805309027433395,\n",
       "  0.09505364298820496,\n",
       "  0.09233453124761581,\n",
       "  0.09499561786651611,\n",
       "  0.09235810488462448,\n",
       "  0.09329260140657425,\n",
       "  0.08525794744491577,\n",
       "  0.08916128426790237,\n",
       "  0.08230788260698318,\n",
       "  0.07985546439886093,\n",
       "  0.08205018192529678,\n",
       "  0.07976030558347702,\n",
       "  0.07588858902454376,\n",
       "  0.07928702980279922,\n",
       "  0.07238451391458511,\n",
       "  0.06906268000602722,\n",
       "  0.0686594694852829,\n",
       "  0.06709256023168564,\n",
       "  0.06598792225122452,\n",
       "  0.06227260082960129,\n",
       "  0.06100402772426605,\n",
       "  0.058710552752017975,\n",
       "  0.05905698239803314,\n",
       "  0.058522194623947144,\n",
       "  0.05579011142253876,\n",
       "  0.05533608794212341,\n",
       "  0.05346188321709633,\n",
       "  0.05670074373483658,\n",
       "  0.05889877304434776,\n",
       "  0.05001607537269592,\n",
       "  0.049040019512176514,\n",
       "  0.052398815751075745,\n",
       "  0.04994867742061615,\n",
       "  0.04676349461078644,\n",
       "  0.04830671846866608,\n",
       "  0.04669009894132614,\n",
       "  0.04563187062740326,\n",
       "  0.04523555189371109,\n",
       "  0.04553157463669777,\n",
       "  0.04472099617123604,\n",
       "  0.04371466860175133,\n",
       "  0.042098499834537506,\n",
       "  0.03972688317298889,\n",
       "  0.0392732098698616,\n",
       "  0.04227562993764877,\n",
       "  0.03774583339691162,\n",
       "  0.038222283124923706,\n",
       "  0.036086682230234146,\n",
       "  0.03753797709941864,\n",
       "  0.034965451806783676,\n",
       "  0.03650711104273796,\n",
       "  0.034090712666511536,\n",
       "  0.03351296856999397,\n",
       "  0.03453488275408745,\n",
       "  0.03280443698167801,\n",
       "  0.032050155103206635,\n",
       "  0.031071776524186134,\n",
       "  0.030721697956323624,\n",
       "  0.02979070134460926,\n",
       "  0.02983172982931137,\n",
       "  0.02918255142867565,\n",
       "  0.029861999675631523,\n",
       "  0.030021507292985916,\n",
       "  0.0292817335575819,\n",
       "  0.029043953865766525,\n",
       "  0.02882964164018631,\n",
       "  0.027985909953713417,\n",
       "  0.027180572971701622,\n",
       "  0.026702767238020897,\n",
       "  0.027338817715644836,\n",
       "  0.02619580179452896,\n",
       "  0.025727467611432076,\n",
       "  0.02524627558887005],\n",
       " 'mae': [1.5943455696105957,\n",
       "  1.31336510181427,\n",
       "  1.2079218626022339,\n",
       "  1.136856198310852,\n",
       "  1.065800428390503,\n",
       "  1.0128041505813599,\n",
       "  0.9643491506576538,\n",
       "  0.9014255404472351,\n",
       "  0.8455249071121216,\n",
       "  0.8002644181251526,\n",
       "  0.746491014957428,\n",
       "  0.7138283848762512,\n",
       "  0.6716740727424622,\n",
       "  0.6499357223510742,\n",
       "  0.6273371577262878,\n",
       "  0.6365540623664856,\n",
       "  0.5843982100486755,\n",
       "  0.5625735521316528,\n",
       "  0.5335184931755066,\n",
       "  0.527726948261261,\n",
       "  0.5115304589271545,\n",
       "  0.5003555417060852,\n",
       "  0.4883038401603699,\n",
       "  0.4777107834815979,\n",
       "  0.46536803245544434,\n",
       "  0.4562390446662903,\n",
       "  0.44689926505088806,\n",
       "  0.4361875355243683,\n",
       "  0.422269731760025,\n",
       "  0.41516271233558655,\n",
       "  0.41024136543273926,\n",
       "  0.39330244064331055,\n",
       "  0.3776991069316864,\n",
       "  0.3739561140537262,\n",
       "  0.3736170530319214,\n",
       "  0.35787588357925415,\n",
       "  0.35582077503204346,\n",
       "  0.3499596416950226,\n",
       "  0.342532217502594,\n",
       "  0.3444732129573822,\n",
       "  0.3353807330131531,\n",
       "  0.3326837420463562,\n",
       "  0.32552993297576904,\n",
       "  0.3229113817214966,\n",
       "  0.31933823227882385,\n",
       "  0.3129807114601135,\n",
       "  0.3115359842777252,\n",
       "  0.31348875164985657,\n",
       "  0.28825342655181885,\n",
       "  0.28572651743888855,\n",
       "  0.2863631844520569,\n",
       "  0.2834616005420685,\n",
       "  0.2835490107536316,\n",
       "  0.2806701958179474,\n",
       "  0.2767096161842346,\n",
       "  0.2754102051258087,\n",
       "  0.27937498688697815,\n",
       "  0.2663387060165405,\n",
       "  0.2701748311519623,\n",
       "  0.2683057188987732,\n",
       "  0.26214876770973206,\n",
       "  0.25844258069992065,\n",
       "  0.25660082697868347,\n",
       "  0.26097047328948975,\n",
       "  0.25783488154411316,\n",
       "  0.2576388418674469,\n",
       "  0.25152477622032166,\n",
       "  0.24848811328411102,\n",
       "  0.24400120973587036,\n",
       "  0.25025925040245056,\n",
       "  0.23966582119464874,\n",
       "  0.23398099839687347,\n",
       "  0.2295432686805725,\n",
       "  0.22932536900043488,\n",
       "  0.2261548787355423,\n",
       "  0.22308309376239777,\n",
       "  0.2255958765745163,\n",
       "  0.22434072196483612,\n",
       "  0.21999970078468323,\n",
       "  0.21763400733470917,\n",
       "  0.22018200159072876,\n",
       "  0.21701891720294952,\n",
       "  0.21796442568302155,\n",
       "  0.2100963592529297,\n",
       "  0.21271741390228271,\n",
       "  0.2057485282421112,\n",
       "  0.20255838334560394,\n",
       "  0.20302611589431763,\n",
       "  0.2005177140235901,\n",
       "  0.19577251374721527,\n",
       "  0.19895704090595245,\n",
       "  0.19237163662910461,\n",
       "  0.187638521194458,\n",
       "  0.18596495687961578,\n",
       "  0.18424879014492035,\n",
       "  0.1831115037202835,\n",
       "  0.1782379150390625,\n",
       "  0.175984188914299,\n",
       "  0.17277877032756805,\n",
       "  0.17282803356647491,\n",
       "  0.17112979292869568,\n",
       "  0.16900432109832764,\n",
       "  0.1671837717294693,\n",
       "  0.16461516916751862,\n",
       "  0.1681309938430786,\n",
       "  0.17037582397460938,\n",
       "  0.159429132938385,\n",
       "  0.15788908302783966,\n",
       "  0.1608845740556717,\n",
       "  0.15800222754478455,\n",
       "  0.15358136594295502,\n",
       "  0.15465198457241058,\n",
       "  0.1528199464082718,\n",
       "  0.15134909749031067,\n",
       "  0.1499849408864975,\n",
       "  0.15024270117282867,\n",
       "  0.14884445071220398,\n",
       "  0.14703994989395142,\n",
       "  0.14442959427833557,\n",
       "  0.141229510307312,\n",
       "  0.13944770395755768,\n",
       "  0.1436818391084671,\n",
       "  0.1372862458229065,\n",
       "  0.13756202161312103,\n",
       "  0.13421635329723358,\n",
       "  0.1363123208284378,\n",
       "  0.13232184946537018,\n",
       "  0.1335970014333725,\n",
       "  0.13004590570926666,\n",
       "  0.12926894426345825,\n",
       "  0.1298762559890747,\n",
       "  0.12799686193466187,\n",
       "  0.12626028060913086,\n",
       "  0.12438823282718658,\n",
       "  0.12348022311925888,\n",
       "  0.1221490278840065,\n",
       "  0.12181271612644196,\n",
       "  0.12100844085216522,\n",
       "  0.12146776914596558,\n",
       "  0.1218472570180893,\n",
       "  0.12048812210559845,\n",
       "  0.1198500543832779,\n",
       "  0.11883804202079773,\n",
       "  0.1173912063241005,\n",
       "  0.1158689558506012,\n",
       "  0.11493530124425888,\n",
       "  0.11566735059022903,\n",
       "  0.11406216025352478,\n",
       "  0.11316128820180893,\n",
       "  0.11195527017116547],\n",
       " 'val_loss': [30.90548324584961,\n",
       "  5.556204795837402,\n",
       "  3.6829071044921875,\n",
       "  2.8367068767547607,\n",
       "  2.633845090866089,\n",
       "  2.7698681354522705,\n",
       "  2.3657500743865967,\n",
       "  2.299351930618286,\n",
       "  2.3478710651397705,\n",
       "  2.311394453048706,\n",
       "  2.314500331878662,\n",
       "  2.576688289642334,\n",
       "  2.460448741912842,\n",
       "  2.397266387939453,\n",
       "  2.361459255218506,\n",
       "  2.309807777404785,\n",
       "  2.2517106533050537,\n",
       "  2.3676202297210693,\n",
       "  2.414262533187866,\n",
       "  2.3125171661376953,\n",
       "  2.2446978092193604,\n",
       "  2.2933011054992676,\n",
       "  2.2738049030303955,\n",
       "  2.305629014968872,\n",
       "  2.2684381008148193,\n",
       "  2.159759521484375,\n",
       "  2.2885067462921143,\n",
       "  2.222867727279663,\n",
       "  2.1951956748962402,\n",
       "  2.2119321823120117,\n",
       "  2.243325710296631,\n",
       "  2.198484182357788,\n",
       "  2.2487192153930664,\n",
       "  2.178283214569092,\n",
       "  2.090029239654541,\n",
       "  2.2010998725891113,\n",
       "  2.1040842533111572,\n",
       "  2.148184299468994,\n",
       "  2.0773816108703613,\n",
       "  2.083986759185791,\n",
       "  2.061406373977661,\n",
       "  2.0657565593719482,\n",
       "  2.038400650024414,\n",
       "  2.0785915851593018,\n",
       "  2.134178400039673,\n",
       "  2.161038398742676,\n",
       "  2.056020498275757,\n",
       "  2.0830931663513184,\n",
       "  2.043971538543701,\n",
       "  2.0506019592285156,\n",
       "  2.062786102294922,\n",
       "  2.0208652019500732,\n",
       "  2.017091989517212,\n",
       "  2.055257797241211,\n",
       "  2.035696268081665,\n",
       "  2.025498867034912,\n",
       "  2.0458168983459473,\n",
       "  2.0540456771850586,\n",
       "  2.1375997066497803,\n",
       "  2.0627152919769287,\n",
       "  2.0189638137817383,\n",
       "  2.129399538040161,\n",
       "  2.0719146728515625,\n",
       "  1.9960572719573975,\n",
       "  2.010467767715454,\n",
       "  2.113982915878296,\n",
       "  2.059476137161255,\n",
       "  2.0507733821868896,\n",
       "  2.05936861038208,\n",
       "  2.1013989448547363,\n",
       "  2.0381946563720703,\n",
       "  1.9990839958190918,\n",
       "  2.0615832805633545,\n",
       "  1.9849448204040527,\n",
       "  2.025200605392456,\n",
       "  2.047081708908081,\n",
       "  2.0131802558898926,\n",
       "  2.034228563308716,\n",
       "  2.006774425506592,\n",
       "  2.0001935958862305,\n",
       "  2.040644884109497,\n",
       "  2.0261709690093994,\n",
       "  2.008005380630493,\n",
       "  2.049203395843506,\n",
       "  2.0649325847625732,\n",
       "  2.001774787902832,\n",
       "  1.9865293502807617,\n",
       "  2.0384585857391357,\n",
       "  2.0086350440979004,\n",
       "  2.029193639755249,\n",
       "  2.0741453170776367,\n",
       "  1.968234896659851,\n",
       "  2.024055242538452,\n",
       "  1.9882546663284302,\n",
       "  1.9968039989471436,\n",
       "  2.022136688232422,\n",
       "  2.0165603160858154,\n",
       "  1.981589913368225,\n",
       "  2.005272150039673,\n",
       "  1.9965507984161377,\n",
       "  1.9604206085205078,\n",
       "  1.9929075241088867,\n",
       "  2.0005125999450684,\n",
       "  2.0156378746032715,\n",
       "  2.001466989517212,\n",
       "  2.0541298389434814,\n",
       "  1.9896405935287476,\n",
       "  1.975546956062317,\n",
       "  1.977413296699524,\n",
       "  2.0008175373077393,\n",
       "  2.0001556873321533,\n",
       "  1.9598034620285034,\n",
       "  1.978264570236206,\n",
       "  1.9939924478530884,\n",
       "  2.0386416912078857,\n",
       "  2.079641819000244,\n",
       "  2.0339815616607666,\n",
       "  2.0280327796936035,\n",
       "  2.016745090484619,\n",
       "  2.0107524394989014,\n",
       "  2.0307276248931885,\n",
       "  2.0511953830718994,\n",
       "  2.020291328430176,\n",
       "  2.0285356044769287,\n",
       "  2.016585350036621,\n",
       "  1.99578857421875,\n",
       "  2.00020432472229,\n",
       "  2.035149335861206,\n",
       "  2.00673246383667,\n",
       "  2.0228404998779297,\n",
       "  1.9704583883285522,\n",
       "  2.014204502105713,\n",
       "  1.985152006149292,\n",
       "  2.0186150074005127,\n",
       "  1.9741835594177246,\n",
       "  2.0003178119659424,\n",
       "  1.9960458278656006,\n",
       "  1.9792406558990479,\n",
       "  2.0147416591644287,\n",
       "  2.0020365715026855,\n",
       "  2.00335693359375,\n",
       "  2.0090808868408203,\n",
       "  2.005714178085327,\n",
       "  2.016570568084717,\n",
       "  1.9883164167404175,\n",
       "  2.007291078567505,\n",
       "  2.0070691108703613,\n",
       "  1.97761869430542,\n",
       "  2.0098564624786377,\n",
       "  2.0238301753997803],\n",
       " 'val_mae': [5.14232873916626,\n",
       "  1.9309700727462769,\n",
       "  1.5330932140350342,\n",
       "  1.3062403202056885,\n",
       "  1.2532826662063599,\n",
       "  1.2743194103240967,\n",
       "  1.1654623746871948,\n",
       "  1.1411755084991455,\n",
       "  1.1273735761642456,\n",
       "  1.1235020160675049,\n",
       "  1.132683515548706,\n",
       "  1.1747019290924072,\n",
       "  1.1358997821807861,\n",
       "  1.1326489448547363,\n",
       "  1.1013001203536987,\n",
       "  1.0983469486236572,\n",
       "  1.0767415761947632,\n",
       "  1.1137784719467163,\n",
       "  1.1220475435256958,\n",
       "  1.0930713415145874,\n",
       "  1.0728073120117188,\n",
       "  1.077471375465393,\n",
       "  1.0765670537948608,\n",
       "  1.0747404098510742,\n",
       "  1.077792763710022,\n",
       "  1.0464043617248535,\n",
       "  1.0825986862182617,\n",
       "  1.0543557405471802,\n",
       "  1.0572423934936523,\n",
       "  1.0576095581054688,\n",
       "  1.0552903413772583,\n",
       "  1.0303256511688232,\n",
       "  1.0379679203033447,\n",
       "  1.031720519065857,\n",
       "  1.0004603862762451,\n",
       "  1.0302127599716187,\n",
       "  1.0145303010940552,\n",
       "  1.0182507038116455,\n",
       "  0.998825192451477,\n",
       "  0.9928051233291626,\n",
       "  0.9826654195785522,\n",
       "  1.0010120868682861,\n",
       "  0.9904204607009888,\n",
       "  0.9886938333511353,\n",
       "  1.0065665245056152,\n",
       "  0.9938223958015442,\n",
       "  0.9881484508514404,\n",
       "  0.9825630187988281,\n",
       "  0.9679812788963318,\n",
       "  0.9945974349975586,\n",
       "  0.9720712900161743,\n",
       "  0.9670088887214661,\n",
       "  0.9637121558189392,\n",
       "  0.972366452217102,\n",
       "  0.9640777707099915,\n",
       "  0.9626099467277527,\n",
       "  0.967806875705719,\n",
       "  0.9807204604148865,\n",
       "  0.9870993494987488,\n",
       "  0.9756563305854797,\n",
       "  0.9587933421134949,\n",
       "  0.9896239042282104,\n",
       "  0.9509255290031433,\n",
       "  0.9560820460319519,\n",
       "  0.9463686347007751,\n",
       "  0.974175214767456,\n",
       "  0.9542195200920105,\n",
       "  0.9481160044670105,\n",
       "  0.9474239945411682,\n",
       "  0.9699925780296326,\n",
       "  0.9421772360801697,\n",
       "  0.9429829120635986,\n",
       "  0.9394978284835815,\n",
       "  0.9382977485656738,\n",
       "  0.9368646144866943,\n",
       "  0.9523840546607971,\n",
       "  0.93416428565979,\n",
       "  0.9475322365760803,\n",
       "  0.9342621564865112,\n",
       "  0.9289248585700989,\n",
       "  0.9367347955703735,\n",
       "  0.9385318756103516,\n",
       "  0.9309936761856079,\n",
       "  0.9365386962890625,\n",
       "  0.9472424387931824,\n",
       "  0.9271599054336548,\n",
       "  0.9166748523712158,\n",
       "  0.9430919885635376,\n",
       "  0.9370068907737732,\n",
       "  0.928231418132782,\n",
       "  0.940804123878479,\n",
       "  0.9237852692604065,\n",
       "  0.9247832894325256,\n",
       "  0.9339606761932373,\n",
       "  0.9232305884361267,\n",
       "  0.9287708401679993,\n",
       "  0.9224746823310852,\n",
       "  0.9059391617774963,\n",
       "  0.9110710024833679,\n",
       "  0.9133691191673279,\n",
       "  0.9021902680397034,\n",
       "  0.9126129746437073,\n",
       "  0.9147465229034424,\n",
       "  0.9101126194000244,\n",
       "  0.9148378968238831,\n",
       "  0.9256243705749512,\n",
       "  0.9084798097610474,\n",
       "  0.912620484828949,\n",
       "  0.9067569971084595,\n",
       "  0.9002747535705566,\n",
       "  0.9019626379013062,\n",
       "  0.8925122022628784,\n",
       "  0.899814248085022,\n",
       "  0.9045999646186829,\n",
       "  0.9127669334411621,\n",
       "  0.9198943376541138,\n",
       "  0.9265419244766235,\n",
       "  0.9152466654777527,\n",
       "  0.9165443181991577,\n",
       "  0.9096904397010803,\n",
       "  0.9121556878089905,\n",
       "  0.9051374197006226,\n",
       "  0.898079514503479,\n",
       "  0.9006967544555664,\n",
       "  0.9048956632614136,\n",
       "  0.8927847146987915,\n",
       "  0.9178189635276794,\n",
       "  0.9061501622200012,\n",
       "  0.907102644443512,\n",
       "  0.9067005515098572,\n",
       "  0.8947718143463135,\n",
       "  0.9105555415153503,\n",
       "  0.8964943289756775,\n",
       "  0.9014486074447632,\n",
       "  0.8920504450798035,\n",
       "  0.8950051069259644,\n",
       "  0.895516574382782,\n",
       "  0.8884963393211365,\n",
       "  0.8992074131965637,\n",
       "  0.902116060256958,\n",
       "  0.8936085104942322,\n",
       "  0.8946951627731323,\n",
       "  0.8956164717674255,\n",
       "  0.9014258980751038,\n",
       "  0.8958247303962708,\n",
       "  0.8947352170944214,\n",
       "  0.891547441482544,\n",
       "  0.8918551802635193,\n",
       "  0.8887017369270325,\n",
       "  0.8982259631156921],\n",
       " 'lr': [1e-04,\n",
       "  1e-04,\n",
       "  1e-04,\n",
       "  1e-04,\n",
       "  1e-04,\n",
       "  1e-04,\n",
       "  1e-04,\n",
       "  1e-04,\n",
       "  1e-04,\n",
       "  1e-04,\n",
       "  1e-04,\n",
       "  1e-04,\n",
       "  1e-04,\n",
       "  1e-04,\n",
       "  1e-04,\n",
       "  1e-04,\n",
       "  1e-04,\n",
       "  1e-04,\n",
       "  1e-04,\n",
       "  1e-04,\n",
       "  1e-04,\n",
       "  1e-04,\n",
       "  1e-04,\n",
       "  1e-04,\n",
       "  1e-04,\n",
       "  1e-04,\n",
       "  1e-04,\n",
       "  1e-04,\n",
       "  1e-04,\n",
       "  1e-04,\n",
       "  1e-04,\n",
       "  9e-05,\n",
       "  9e-05,\n",
       "  9e-05,\n",
       "  9e-05,\n",
       "  9e-05,\n",
       "  9e-05,\n",
       "  9e-05,\n",
       "  9e-05,\n",
       "  9e-05,\n",
       "  9e-05,\n",
       "  9e-05,\n",
       "  9e-05,\n",
       "  9e-05,\n",
       "  9e-05,\n",
       "  9e-05,\n",
       "  8.1e-05,\n",
       "  8.1e-05,\n",
       "  8.1e-05,\n",
       "  8.1e-05,\n",
       "  8.1e-05,\n",
       "  8.1e-05,\n",
       "  8.1e-05,\n",
       "  8.1e-05,\n",
       "  8.1e-05,\n",
       "  8.1e-05,\n",
       "  8.1e-05,\n",
       "  8.1e-05,\n",
       "  8.1e-05,\n",
       "  8.1e-05,\n",
       "  8.1e-05,\n",
       "  8.1e-05,\n",
       "  8.1e-05,\n",
       "  8.1e-05,\n",
       "  8.1e-05,\n",
       "  8.1e-05,\n",
       "  8.1e-05,\n",
       "  8.1e-05,\n",
       "  8.1e-05,\n",
       "  8.1e-05,\n",
       "  7.29e-05,\n",
       "  7.29e-05,\n",
       "  7.29e-05,\n",
       "  7.29e-05,\n",
       "  7.29e-05,\n",
       "  7.29e-05,\n",
       "  7.29e-05,\n",
       "  7.29e-05,\n",
       "  7.29e-05,\n",
       "  7.29e-05,\n",
       "  7.29e-05,\n",
       "  7.29e-05,\n",
       "  7.29e-05,\n",
       "  7.29e-05,\n",
       "  7.29e-05,\n",
       "  6.561e-05,\n",
       "  6.561e-05,\n",
       "  6.561e-05,\n",
       "  6.561e-05,\n",
       "  6.561e-05,\n",
       "  6.561e-05,\n",
       "  6.561e-05,\n",
       "  5.9049e-05,\n",
       "  5.9049e-05,\n",
       "  5.9049e-05,\n",
       "  5.9049e-05,\n",
       "  5.9049e-05,\n",
       "  5.31441e-05,\n",
       "  5.31441e-05,\n",
       "  5.31441e-05,\n",
       "  5.31441e-05,\n",
       "  5.31441e-05,\n",
       "  5.31441e-05,\n",
       "  5.31441e-05,\n",
       "  5.31441e-05,\n",
       "  5.31441e-05,\n",
       "  4.782969e-05,\n",
       "  4.782969e-05,\n",
       "  4.782969e-05,\n",
       "  4.782969e-05,\n",
       "  4.782969e-05,\n",
       "  4.782969e-05,\n",
       "  4.782969e-05,\n",
       "  4.782969e-05,\n",
       "  4.782969e-05,\n",
       "  4.782969e-05,\n",
       "  4.782969e-05,\n",
       "  4.304672e-05,\n",
       "  4.304672e-05,\n",
       "  4.304672e-05,\n",
       "  4.304672e-05,\n",
       "  4.304672e-05,\n",
       "  3.8742048e-05,\n",
       "  3.8742048e-05,\n",
       "  3.8742048e-05,\n",
       "  3.8742048e-05,\n",
       "  3.8742048e-05,\n",
       "  3.4867844e-05,\n",
       "  3.4867844e-05,\n",
       "  3.4867844e-05,\n",
       "  3.4867844e-05,\n",
       "  3.4867844e-05,\n",
       "  3.138106e-05,\n",
       "  3.138106e-05,\n",
       "  3.138106e-05,\n",
       "  3.138106e-05,\n",
       "  3.138106e-05,\n",
       "  3.138106e-05,\n",
       "  3.138106e-05,\n",
       "  3.138106e-05,\n",
       "  3.138106e-05,\n",
       "  3.138106e-05,\n",
       "  3.138106e-05,\n",
       "  2.8242954e-05,\n",
       "  2.8242954e-05,\n",
       "  2.8242954e-05,\n",
       "  2.8242954e-05,\n",
       "  2.8242954e-05,\n",
       "  2.5418658e-05,\n",
       "  2.5418658e-05]}"
      ]
     },
     "execution_count": 32,
     "metadata": {},
     "output_type": "execute_result"
    }
   ],
   "source": [
    " history.history"
   ]
  },
  {
   "cell_type": "code",
   "execution_count": 33,
   "id": "27c59924",
   "metadata": {
    "execution": {
     "iopub.execute_input": "2021-12-05T14:40:58.269098Z",
     "iopub.status.busy": "2021-12-05T14:40:58.268239Z",
     "iopub.status.idle": "2021-12-05T14:40:59.268118Z",
     "shell.execute_reply": "2021-12-05T14:40:59.268556Z",
     "shell.execute_reply.started": "2021-12-05T12:36:01.443849Z"
    },
    "papermill": {
     "duration": 17.53022,
     "end_time": "2021-12-05T14:40:59.268717",
     "exception": false,
     "start_time": "2021-12-05T14:40:41.738497",
     "status": "completed"
    },
    "tags": []
   },
   "outputs": [
    {
     "data": {
      "text/plain": [
       "<tensorflow.python.training.tracking.util.CheckpointLoadStatus at 0x7ff0f25f3a90>"
      ]
     },
     "execution_count": 33,
     "metadata": {},
     "output_type": "execute_result"
    }
   ],
   "source": [
    "# after training is finished \n",
    "# load best model\n",
    "model.load_weights(ckp_path)"
   ]
  },
  {
   "cell_type": "code",
   "execution_count": 34,
   "id": "ac5ad8b6",
   "metadata": {
    "execution": {
     "iopub.execute_input": "2021-12-05T14:41:32.739440Z",
     "iopub.status.busy": "2021-12-05T14:41:32.738395Z",
     "iopub.status.idle": "2021-12-05T14:41:34.938783Z",
     "shell.execute_reply": "2021-12-05T14:41:34.939566Z",
     "shell.execute_reply.started": "2021-12-05T12:36:01.445778Z"
    },
    "papermill": {
     "duration": 18.48103,
     "end_time": "2021-12-05T14:41:34.939747",
     "exception": false,
     "start_time": "2021-12-05T14:41:16.458717",
     "status": "completed"
    },
    "tags": []
   },
   "outputs": [],
   "source": [
    "# if you want to see result\n",
    "prediction_val=model.predict(X_test,batch_size=BATCH_SIZE)\n"
   ]
  },
  {
   "cell_type": "code",
   "execution_count": 35,
   "id": "bb920f6e",
   "metadata": {
    "execution": {
     "iopub.execute_input": "2021-12-05T14:42:08.332046Z",
     "iopub.status.busy": "2021-12-05T14:42:08.330454Z",
     "iopub.status.idle": "2021-12-05T14:42:08.332639Z",
     "shell.execute_reply": "2021-12-05T14:42:08.333047Z",
     "shell.execute_reply.started": "2021-12-05T12:36:01.448589Z"
    },
    "papermill": {
     "duration": 16.767987,
     "end_time": "2021-12-05T14:42:08.333199",
     "exception": false,
     "start_time": "2021-12-05T14:41:51.565212",
     "status": "completed"
    },
    "tags": []
   },
   "outputs": [],
   "source": [
    "# remember X_test is use for validation and for testing \n",
    "# to get beffer result use different data for validation and testing"
   ]
  },
  {
   "cell_type": "code",
   "execution_count": 36,
   "id": "3a94f5f9",
   "metadata": {
    "execution": {
     "iopub.execute_input": "2021-12-05T14:42:41.649906Z",
     "iopub.status.busy": "2021-12-05T14:42:41.649299Z",
     "iopub.status.idle": "2021-12-05T14:42:41.652025Z",
     "shell.execute_reply": "2021-12-05T14:42:41.652517Z",
     "shell.execute_reply.started": "2021-12-05T12:36:01.450621Z"
    },
    "papermill": {
     "duration": 16.795231,
     "end_time": "2021-12-05T14:42:41.652672",
     "exception": false,
     "start_time": "2021-12-05T14:42:24.857441",
     "status": "completed"
    },
    "tags": []
   },
   "outputs": [
    {
     "data": {
      "text/plain": [
       "array([[ 4.8738748e-02],\n",
       "       [ 3.9499297e+00],\n",
       "       [ 1.7974069e+00],\n",
       "       [ 5.7742591e+00],\n",
       "       [ 3.0792162e+00],\n",
       "       [-4.4894218e-04],\n",
       "       [ 4.1011219e+00],\n",
       "       [ 5.3384113e+00],\n",
       "       [ 3.0652461e+00],\n",
       "       [ 4.6041803e+00]], dtype=float32)"
      ]
     },
     "execution_count": 36,
     "metadata": {},
     "output_type": "execute_result"
    }
   ],
   "source": [
    "# prediction value \n",
    "prediction_val[:10]"
   ]
  },
  {
   "cell_type": "code",
   "execution_count": 37,
   "id": "145700fc",
   "metadata": {
    "execution": {
     "iopub.execute_input": "2021-12-05T14:43:15.675996Z",
     "iopub.status.busy": "2021-12-05T14:43:15.674341Z",
     "iopub.status.idle": "2021-12-05T14:43:15.678050Z",
     "shell.execute_reply": "2021-12-05T14:43:15.677614Z",
     "shell.execute_reply.started": "2021-12-05T12:36:01.452899Z"
    },
    "papermill": {
     "duration": 17.221191,
     "end_time": "2021-12-05T14:43:15.678162",
     "exception": false,
     "start_time": "2021-12-05T14:42:58.456971",
     "status": "completed"
    },
    "tags": []
   },
   "outputs": [
    {
     "data": {
      "text/plain": [
       "array([0, 4, 1, 4, 4, 0, 4, 6, 0, 3])"
      ]
     },
     "execution_count": 37,
     "metadata": {},
     "output_type": "execute_result"
    }
   ],
   "source": [
    "# original value\n",
    "Y_test[:10]"
   ]
  },
  {
   "cell_type": "code",
   "execution_count": 38,
   "id": "47ab80cd",
   "metadata": {
    "execution": {
     "iopub.execute_input": "2021-12-05T14:43:48.992088Z",
     "iopub.status.busy": "2021-12-05T14:43:48.991265Z",
     "iopub.status.idle": "2021-12-05T14:44:16.400871Z",
     "shell.execute_reply": "2021-12-05T14:44:16.401368Z",
     "shell.execute_reply.started": "2021-12-05T12:36:01.454794Z"
    },
    "papermill": {
     "duration": 44.425952,
     "end_time": "2021-12-05T14:44:16.401531",
     "exception": false,
     "start_time": "2021-12-05T14:43:31.975579",
     "status": "completed"
    },
    "tags": []
   },
   "outputs": [
    {
     "name": "stderr",
     "output_type": "stream",
     "text": [
      "2021-12-05 14:43:58.106153: W tensorflow/python/util/util.cc:348] Sets are not currently considered sequences, but this may change in the future, so consider avoiding using them.\n",
      "/opt/conda/lib/python3.7/site-packages/keras/utils/generic_utils.py:497: CustomMaskWarning: Custom mask layers require a config and must override get_config. When loading, the custom mask layer must be passed to the custom_objects argument.\n",
      "  category=CustomMaskWarning)\n",
      "2021-12-05 14:44:15.022726: I tensorflow/stream_executor/cuda/cuda_gpu_executor.cc:937] successful NUMA node read from SysFS had negative value (-1), but there must be at least one NUMA node, so returning NUMA node zero\n",
      "2021-12-05 14:44:15.023257: I tensorflow/core/grappler/devices.cc:66] Number of eligible GPUs (core count >= 8, compute capability >= 0.0): 1\n",
      "2021-12-05 14:44:15.023489: I tensorflow/core/grappler/clusters/single_machine.cc:357] Starting new session\n",
      "2021-12-05 14:44:15.026874: I tensorflow/stream_executor/cuda/cuda_gpu_executor.cc:937] successful NUMA node read from SysFS had negative value (-1), but there must be at least one NUMA node, so returning NUMA node zero\n",
      "2021-12-05 14:44:15.027449: I tensorflow/stream_executor/cuda/cuda_gpu_executor.cc:937] successful NUMA node read from SysFS had negative value (-1), but there must be at least one NUMA node, so returning NUMA node zero\n",
      "2021-12-05 14:44:15.028027: I tensorflow/stream_executor/cuda/cuda_gpu_executor.cc:937] successful NUMA node read from SysFS had negative value (-1), but there must be at least one NUMA node, so returning NUMA node zero\n",
      "2021-12-05 14:44:15.028621: I tensorflow/stream_executor/cuda/cuda_gpu_executor.cc:937] successful NUMA node read from SysFS had negative value (-1), but there must be at least one NUMA node, so returning NUMA node zero\n",
      "2021-12-05 14:44:15.029217: I tensorflow/stream_executor/cuda/cuda_gpu_executor.cc:937] successful NUMA node read from SysFS had negative value (-1), but there must be at least one NUMA node, so returning NUMA node zero\n",
      "2021-12-05 14:44:15.029628: I tensorflow/core/common_runtime/gpu/gpu_device.cc:1510] Created device /job:localhost/replica:0/task:0/device:GPU:0 with 15403 MB memory:  -> device: 0, name: Tesla P100-PCIE-16GB, pci bus id: 0000:00:04.0, compute capability: 6.0\n",
      "2021-12-05 14:44:15.058701: I tensorflow/core/grappler/optimizers/meta_optimizer.cc:1137] Optimization results for grappler item: graph_to_optimize\n",
      "  function_optimizer: function_optimizer did nothing. time = 0.01ms.\n",
      "  function_optimizer: function_optimizer did nothing. time = 0.005ms.\n",
      "\n",
      "2021-12-05 14:44:16.152187: W tensorflow/compiler/mlir/lite/python/tf_tfl_flatbuffer_helpers.cc:351] Ignored output_format.\n",
      "2021-12-05 14:44:16.152245: W tensorflow/compiler/mlir/lite/python/tf_tfl_flatbuffer_helpers.cc:354] Ignored drop_control_dependency.\n",
      "2021-12-05 14:44:16.198494: I tensorflow/compiler/mlir/tensorflow/utils/dump_mlir_util.cc:210] disabling MLIR crash reproducer, set env var `MLIR_CRASH_REPRODUCER_DIRECTORY` to enable.\n"
     ]
    }
   ],
   "source": [
    "# now convert model to tensorflow lite model \n",
    "converter=tf.lite.TFLiteConverter.from_keras_model(model)\n",
    "tflite_model=converter.convert()\n",
    "\n",
    "#save model \n",
    "with open(\"model.tflite\",\"wb\") as f:\n",
    "    f.write(tflite_model)"
   ]
  },
  {
   "cell_type": "code",
   "execution_count": 39,
   "id": "07ac0343",
   "metadata": {
    "execution": {
     "iopub.execute_input": "2021-12-05T14:44:49.811129Z",
     "iopub.status.busy": "2021-12-05T14:44:49.809556Z",
     "iopub.status.idle": "2021-12-05T14:44:49.811733Z",
     "shell.execute_reply": "2021-12-05T14:44:49.812123Z",
     "shell.execute_reply.started": "2021-12-05T12:36:01.457609Z"
    },
    "papermill": {
     "duration": 16.784777,
     "end_time": "2021-12-05T14:44:49.812289",
     "exception": false,
     "start_time": "2021-12-05T14:44:33.027512",
     "status": "completed"
    },
    "tags": []
   },
   "outputs": [],
   "source": [
    "# save this version"
   ]
  },
  {
   "cell_type": "code",
   "execution_count": null,
   "id": "f57ace3c",
   "metadata": {
    "papermill": {
     "duration": 16.833084,
     "end_time": "2021-12-05T14:45:23.354975",
     "exception": false,
     "start_time": "2021-12-05T14:45:06.521891",
     "status": "completed"
    },
    "tags": []
   },
   "outputs": [],
   "source": []
  },
  {
   "cell_type": "code",
   "execution_count": null,
   "id": "18850719",
   "metadata": {
    "papermill": {
     "duration": 16.959187,
     "end_time": "2021-12-05T14:45:56.928981",
     "exception": false,
     "start_time": "2021-12-05T14:45:39.969794",
     "status": "completed"
    },
    "tags": []
   },
   "outputs": [],
   "source": []
  },
  {
   "cell_type": "code",
   "execution_count": null,
   "id": "efc8d5cb",
   "metadata": {
    "papermill": {
     "duration": 16.805907,
     "end_time": "2021-12-05T14:46:30.325906",
     "exception": false,
     "start_time": "2021-12-05T14:46:13.519999",
     "status": "completed"
    },
    "tags": []
   },
   "outputs": [],
   "source": []
  },
  {
   "cell_type": "code",
   "execution_count": null,
   "id": "fce43a8d",
   "metadata": {
    "papermill": {
     "duration": 16.759673,
     "end_time": "2021-12-05T14:47:03.844623",
     "exception": false,
     "start_time": "2021-12-05T14:46:47.084950",
     "status": "completed"
    },
    "tags": []
   },
   "outputs": [],
   "source": []
  },
  {
   "cell_type": "code",
   "execution_count": null,
   "id": "d6cb1bac",
   "metadata": {
    "papermill": {
     "duration": 16.826321,
     "end_time": "2021-12-05T14:47:37.394492",
     "exception": false,
     "start_time": "2021-12-05T14:47:20.568171",
     "status": "completed"
    },
    "tags": []
   },
   "outputs": [],
   "source": []
  },
  {
   "cell_type": "code",
   "execution_count": null,
   "id": "d9a8bb7f",
   "metadata": {
    "papermill": {
     "duration": 16.970459,
     "end_time": "2021-12-05T14:48:10.953802",
     "exception": false,
     "start_time": "2021-12-05T14:47:53.983343",
     "status": "completed"
    },
    "tags": []
   },
   "outputs": [],
   "source": []
  }
 ],
 "metadata": {
  "kernelspec": {
   "display_name": "Python 3",
   "language": "python",
   "name": "python3"
  },
  "language_info": {
   "codemirror_mode": {
    "name": "ipython",
    "version": 3
   },
   "file_extension": ".py",
   "mimetype": "text/x-python",
   "name": "python",
   "nbconvert_exporter": "python",
   "pygments_lexer": "ipython3",
   "version": "3.7.10"
  },
  "papermill": {
   "default_parameters": {},
   "duration": 5396.9783,
   "end_time": "2021-12-05T14:48:31.120797",
   "environment_variables": {},
   "exception": null,
   "input_path": "__notebook__.ipynb",
   "output_path": "__notebook__.ipynb",
   "parameters": {},
   "start_time": "2021-12-05T13:18:34.142497",
   "version": "2.3.3"
  }
 },
 "nbformat": 4,
 "nbformat_minor": 5
}
